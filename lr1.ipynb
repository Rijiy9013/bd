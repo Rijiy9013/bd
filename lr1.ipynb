{
  "nbformat": 4,
  "nbformat_minor": 0,
  "metadata": {
    "colab": {
      "provenance": []
    },
    "kernelspec": {
      "name": "python3",
      "display_name": "Python 3"
    },
    "language_info": {
      "name": "python"
    }
  },
  "cells": [
    {
      "cell_type": "code",
      "execution_count": 1,
      "metadata": {
        "colab": {
          "base_uri": "https://localhost:8080/"
        },
        "id": "TJ9FrYZCdrIl",
        "outputId": "99a468a0-d589-4e10-cdf7-2ffc7b2fe706"
      },
      "outputs": [
        {
          "output_type": "stream",
          "name": "stdout",
          "text": [
            "Collecting pyspark\n",
            "  Downloading pyspark-3.5.1.tar.gz (317.0 MB)\n",
            "\u001b[2K     \u001b[90m━━━━━━━━━━━━━━━━━━━━━━━━━━━━━━━━━━━━━━━━\u001b[0m \u001b[32m317.0/317.0 MB\u001b[0m \u001b[31m2.5 MB/s\u001b[0m eta \u001b[36m0:00:00\u001b[0m\n",
            "\u001b[?25h  Preparing metadata (setup.py) ... \u001b[?25l\u001b[?25hdone\n",
            "Requirement already satisfied: py4j==0.10.9.7 in /usr/local/lib/python3.10/dist-packages (from pyspark) (0.10.9.7)\n",
            "Building wheels for collected packages: pyspark\n",
            "  Building wheel for pyspark (setup.py) ... \u001b[?25l\u001b[?25hdone\n",
            "  Created wheel for pyspark: filename=pyspark-3.5.1-py2.py3-none-any.whl size=317488491 sha256=9a8e12c0a1bcdf9347e2619339ffef25028a33c4938530eaaa8522cee4d3ce68\n",
            "  Stored in directory: /root/.cache/pip/wheels/80/1d/60/2c256ed38dddce2fdd93be545214a63e02fbd8d74fb0b7f3a6\n",
            "Successfully built pyspark\n",
            "Installing collected packages: pyspark\n",
            "Successfully installed pyspark-3.5.1\n"
          ]
        }
      ],
      "source": [
        "!pip install pyspark\n",
        "import os\n",
        "import sys\n",
        "from pyspark.sql import SparkSession\n",
        "from typing import NamedTuple\n",
        "from datetime import datetime\n",
        "\n",
        "os.environ['PYSPARK_PYTHON'] = sys.executable\n",
        "os.environ['PYSPARK_DRIVER_PYTHON'] = sys.executable\n",
        "spark = SparkSession.builder.getOrCreate()"
      ]
    },
    {
      "cell_type": "code",
      "source": [
        "from pyspark import SparkContext, SparkConf\n",
        "app_name = \"lr1\"\n",
        "spark.stop()\n",
        "conf = SparkConf().setAppName(app_name).setMaster('local[1]')\n",
        "sc = SparkContext(conf=conf)\n",
        "sc"
      ],
      "metadata": {
        "colab": {
          "base_uri": "https://localhost:8080/",
          "height": 196
        },
        "id": "o51kBBmmd43s",
        "outputId": "62a831b9-cce7-47cf-b8ad-24cb985b4ee1"
      },
      "execution_count": 2,
      "outputs": [
        {
          "output_type": "execute_result",
          "data": {
            "text/plain": [
              "<SparkContext master=local[1] appName=lr1>"
            ],
            "text/html": [
              "\n",
              "        <div>\n",
              "            <p><b>SparkContext</b></p>\n",
              "\n",
              "            <p><a href=\"http://9219cae09ebc:4040\">Spark UI</a></p>\n",
              "\n",
              "            <dl>\n",
              "              <dt>Version</dt>\n",
              "                <dd><code>v3.5.1</code></dd>\n",
              "              <dt>Master</dt>\n",
              "                <dd><code>local[1]</code></dd>\n",
              "              <dt>AppName</dt>\n",
              "                <dd><code>lr1</code></dd>\n",
              "            </dl>\n",
              "        </div>\n",
              "        "
            ]
          },
          "metadata": {},
          "execution_count": 2
        }
      ]
    },
    {
      "cell_type": "code",
      "source": [
        "sc.stop()\n",
        "spark.stop()"
      ],
      "metadata": {
        "id": "OiMW13buk-5Y"
      },
      "execution_count": null,
      "outputs": []
    },
    {
      "cell_type": "code",
      "source": [
        "def initStation(stations):\n",
        "    class Station(NamedTuple):\n",
        "        station_id: int\n",
        "        name: str\n",
        "        lat: float\n",
        "        long: float\n",
        "        dockcount: int\n",
        "        landmark: str\n",
        "        installation: str\n",
        "\n",
        "    for station in stations:\n",
        "        yield Station(\n",
        "            station_id = int(station[0]),\n",
        "            name = station[1],\n",
        "            lat = float(station[2]),\n",
        "            long = float(station[3]),\n",
        "            dockcount = int(station[4]),\n",
        "            landmark = station[5],\n",
        "            installation = datetime.strptime(station[6], '%m/%d/%Y')\n",
        "        )"
      ],
      "metadata": {
        "id": "2O3Vc61Lee4E"
      },
      "execution_count": 3,
      "outputs": []
    },
    {
      "cell_type": "code",
      "source": [
        "def initTrip(trips):\n",
        "    class Trip(NamedTuple):\n",
        "        trip_id: int\n",
        "        duration: int\n",
        "        start_date: datetime\n",
        "        start_station_name: str\n",
        "        start_station_id: int\n",
        "        end_date: datetime\n",
        "        end_station_name: str\n",
        "        end_station_id: int\n",
        "        bike_id: int\n",
        "        subscription_type: str\n",
        "        zip_code: str\n",
        "\n",
        "    for trip in trips:\n",
        "        try:\n",
        "            yield Trip(\n",
        "             trip_id = int(trip[0]),\n",
        "             duration = int(trip[1]),\n",
        "             start_date = datetime.strptime(trip[2], '%m/%d/%Y %H:%M'),\n",
        "             start_station_name = trip[3],\n",
        "             start_station_id = int(trip[4]),\n",
        "             end_date = datetime.strptime(trip[5], '%m/%d/%Y %H:%M'),\n",
        "             end_station_name = trip[6],\n",
        "             end_station_id = trip[7],\n",
        "             bike_id = int(trip[8]),\n",
        "             subscription_type = trip[9],\n",
        "             zip_code = trip[10]\n",
        "            )\n",
        "        except:\n",
        "            pass"
      ],
      "metadata": {
        "id": "Lw0Mxn65fCGF"
      },
      "execution_count": 4,
      "outputs": []
    },
    {
      "cell_type": "code",
      "source": [
        "tripData = sc.textFile(\"data/trips.csv\")\n",
        "\n",
        "headerTrip = tripData.first()\n",
        "trips = tripData.filter(lambda row: row != headerTrip).map(lambda row: row.split(\",\", -1))\n",
        "\n",
        "print(trips.first())\n",
        "\n",
        "trips_mapper = trips.mapPartitions(initTrip)\n",
        "\n",
        "\n",
        "stationData = sc.textFile(\"data/stations.csv\")\n",
        "\n",
        "headerStation = stationData.first()\n",
        "stations = stationData.filter(lambda row: row != headerStation).map(lambda row: row.split(\",\", -1))\n",
        "\n",
        "print(stations.first())\n",
        "\n",
        "stations_mapped = stations.mapPartitions(initStation)\n",
        "\n",
        "stations_mapped.first()"
      ],
      "metadata": {
        "colab": {
          "base_uri": "https://localhost:8080/"
        },
        "id": "sVTmsOSTfCv8",
        "outputId": "d0b7a4d2-3e68-41e3-d302-897516c46da8"
      },
      "execution_count": 10,
      "outputs": [
        {
          "output_type": "stream",
          "name": "stdout",
          "text": [
            "['4576', '63', '', 'South Van Ness at Market', '66', '8/29/2013 14:14', 'South Van Ness at Market', '66', '520', 'Subscriber', '94127']\n",
            "['2', 'San Jose Diridon Caltrain Station', '37.329732', '-121.90178200000001', '27', 'San Jose', '8/6/2013']\n"
          ]
        },
        {
          "output_type": "execute_result",
          "data": {
            "text/plain": [
              "Station(station_id=2, name='San Jose Diridon Caltrain Station', lat=37.329732, long=-121.90178200000001, dockcount=27, landmark='San Jose', installation=datetime.datetime(2013, 8, 6, 0, 0))"
            ]
          },
          "metadata": {},
          "execution_count": 10
        }
      ]
    },
    {
      "cell_type": "markdown",
      "source": [
        "1.\tНайти велосипед с максимальным временем пробега."
      ],
      "metadata": {
        "id": "0_vXqCIzfccN"
      }
    },
    {
      "cell_type": "code",
      "source": [
        "# Использование reduce для нахождения поездки с максимальной длительностью\n",
        "max_duration_trip = trips_mapper.reduce(lambda trip1, trip2: trip1 if trip1.duration > trip2.duration else trip2)\n",
        "\n",
        "max_duration_trip.bike_id"
      ],
      "metadata": {
        "colab": {
          "base_uri": "https://localhost:8080/"
        },
        "id": "pijEKt70fPiK",
        "outputId": "471fe332-1721-46b1-c0d4-fe61fa99928d"
      },
      "execution_count": 11,
      "outputs": [
        {
          "output_type": "execute_result",
          "data": {
            "text/plain": [
              "535"
            ]
          },
          "metadata": {},
          "execution_count": 11
        }
      ]
    },
    {
      "cell_type": "markdown",
      "source": [
        "2.\tНайти наибольшее геодезическое расстояние между станциями."
      ],
      "metadata": {
        "id": "k0fziw5Ffk8_"
      }
    },
    {
      "cell_type": "code",
      "source": [
        "from math import radians, cos, sin, asin, sqrt\n",
        "from typing import Tuple\n",
        "\n",
        "def haversine(lon1: float, lat1: float, lon2: float, lat2: float) -> float:\n",
        "    \"\"\"\n",
        "    Вычислить геодезическое расстояние между двумя точками на земле, заданными в градусах.\n",
        "    \"\"\"\n",
        "    # Конвертировать десятичные градусы в радианы\n",
        "    lon1, lat1, lon2, lat2 = map(radians, [lon1, lat1, lon2, lat2])\n",
        "\n",
        "    # Формула гаверсинуса\n",
        "    dlon = lon2 - lon1\n",
        "    dlat = lat2 - lat1\n",
        "    a = sin(dlat / 2)**2 + cos(lat1) * cos(lat2) * sin(dlon / 2)**2\n",
        "    c = 2 * asin(sqrt(a))\n",
        "    r = 6371  # Радиус Земли в километрах\n",
        "    return c * r"
      ],
      "metadata": {
        "id": "HfR-K9ztfyCm"
      },
      "execution_count": 14,
      "outputs": []
    },
    {
      "cell_type": "code",
      "source": [
        "\n",
        "stations_cartesian = stations_mapped.cartesian(stations_mapped)\n",
        "\n",
        "def calculate_distance(record: Tuple) -> Tuple[int, int, float]:\n",
        "    \"\"\"\n",
        "    Вычислить расстояние между двумя станциями.\n",
        "    \"\"\"\n",
        "    station1, station2 = record\n",
        "    distance = haversine(station1.long, station1.lat, station2.long, station2.lat)\n",
        "    return (station1.station_id, station2.station_id, distance)\n",
        "\n",
        "distances = stations_cartesian.map(calculate_distance)\n",
        "\n",
        "max_distance = distances.max(key=lambda x: x[2])\n",
        "print(f\"Максимальное расстояние между станциями {max_distance[0]} и {max_distance[1]}: {max_distance[2]:.2f} км\")"
      ],
      "metadata": {
        "colab": {
          "base_uri": "https://localhost:8080/"
        },
        "id": "LakNOWrqgB-G",
        "outputId": "483af23e-1598-4432-8a1a-cc99c24c7a1a"
      },
      "execution_count": 15,
      "outputs": [
        {
          "output_type": "stream",
          "name": "stdout",
          "text": [
            "Максимальное расстояние между станциями 16 и 60: 69.92 км\n"
          ]
        }
      ]
    },
    {
      "cell_type": "markdown",
      "source": [
        "3. Найти путь велосипеда с максимальным временем пробега через станции."
      ],
      "metadata": {
        "id": "md_4x5IUfrDe"
      }
    },
    {
      "cell_type": "code",
      "source": [
        "# Суммирование длительности поездок для каждого велосипеда и нахождение максимума\n",
        "max_duration_bike_id, _ = trips_mapper \\\n",
        "    .map(lambda trip: (trip.bike_id, trip.duration)) \\\n",
        "    .reduceByKey(lambda a, b: a + b) \\\n",
        "    .max(key=lambda x: x[1])\n",
        "\n",
        "# Фильтруем поездки для велосипеда с максимальной длительностью и сортируем по дате начала\n",
        "max_bike_trips_sorted = trips_mapper \\\n",
        "    .filter(lambda trip: trip.bike_id == max_duration_bike_id) \\\n",
        "    .sortBy(lambda trip: trip.start_date)\n",
        "\n",
        "# Выводим первую поездку для демонстрации\n",
        "first_trip = max_bike_trips_sorted.first()\n",
        "print(f\"{first_trip.bike_id} выехал из {first_trip.start_station_name} дата {first_trip.start_date} в {first_trip.end_station_name}\")"
      ],
      "metadata": {
        "colab": {
          "base_uri": "https://localhost:8080/"
        },
        "id": "eudVP05DfycX",
        "outputId": "95c6ca8e-bfe1-483c-c8b9-b1e14ca753d1"
      },
      "execution_count": 16,
      "outputs": [
        {
          "output_type": "stream",
          "name": "stdout",
          "text": [
            "535 выехал из Post at Kearney дата 2013-08-29 19:32:00 в San Francisco Caltrain (Townsend at 4th)\n"
          ]
        }
      ]
    },
    {
      "cell_type": "markdown",
      "source": [
        "4.\tНайти количество велосипедов в системе."
      ],
      "metadata": {
        "id": "vezUdqZdfuXY"
      }
    },
    {
      "cell_type": "code",
      "source": [
        "# Извлекаем bike_id из каждой поездки\n",
        "bike_ids = trips_mapper.map(lambda trip: trip.bike_id)\n",
        "\n",
        "# Получаем уникальные bike_id\n",
        "unique_bike_ids = bike_ids.distinct()\n",
        "\n",
        "# Подсчитываем количество уникальных велосипедов\n",
        "bike_count = unique_bike_ids.count()\n",
        "\n",
        "print(bike_count)"
      ],
      "metadata": {
        "colab": {
          "base_uri": "https://localhost:8080/"
        },
        "id": "iyiI3WTffyzd",
        "outputId": "6512d6b1-375e-4273-a6e4-e84ffa61fe14"
      },
      "execution_count": 17,
      "outputs": [
        {
          "output_type": "stream",
          "name": "stdout",
          "text": [
            "700\n"
          ]
        }
      ]
    },
    {
      "cell_type": "markdown",
      "source": [
        "5. Найти пользователей потративших на поездки более 3 часов"
      ],
      "metadata": {
        "id": "J1z_Vq71fv-h"
      }
    },
    {
      "cell_type": "code",
      "source": [
        "# Группировка данных по zip_code и вычисление максимальной продолжительности поездки в секундах\n",
        "# Переименование столбца с максимальной продолжительностью в 'duration'\n",
        "long_trips = trips_mapper.filter(lambda x: x.duration > (3 * 60 * 60))\n",
        "\n",
        "unique_zip_codes = (\n",
        "    long_trips\n",
        "    .map(lambda trip: trip.zip_code)\n",
        "    .filter(lambda zip_code: zip_code != \"\")\n",
        "    .distinct()\n",
        ")\n",
        "\n",
        "unique_zip_codes.take(5)"
      ],
      "metadata": {
        "colab": {
          "base_uri": "https://localhost:8080/"
        },
        "id": "DI0PAPXwf06T",
        "outputId": "98c2b014-fde6-4a5b-fff7-f506041d6fe4"
      },
      "execution_count": 20,
      "outputs": [
        {
          "output_type": "execute_result",
          "data": {
            "text/plain": [
              "['58553', '94301', '94039', '94133', '93726']"
            ]
          },
          "metadata": {},
          "execution_count": 20
        }
      ]
    }
  ]
}