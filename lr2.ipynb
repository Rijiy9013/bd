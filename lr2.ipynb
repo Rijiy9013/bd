{
  "nbformat": 4,
  "nbformat_minor": 0,
  "metadata": {
    "colab": {
      "provenance": []
    },
    "kernelspec": {
      "name": "python3",
      "display_name": "Python 3"
    },
    "language_info": {
      "name": "python"
    }
  },
  "cells": [
    {
      "cell_type": "code",
      "execution_count": 1,
      "metadata": {
        "colab": {
          "base_uri": "https://localhost:8080/",
          "height": 424
        },
        "id": "oktP7oaBiV5w",
        "outputId": "d076acae-a649-41aa-86eb-8be7ae15f900"
      },
      "outputs": [
        {
          "output_type": "stream",
          "name": "stdout",
          "text": [
            "Collecting pyspark\n",
            "  Downloading pyspark-3.5.1.tar.gz (317.0 MB)\n",
            "\u001b[2K     \u001b[90m━━━━━━━━━━━━━━━━━━━━━━━━━━━━━━━━━━━━━━━━\u001b[0m \u001b[32m317.0/317.0 MB\u001b[0m \u001b[31m2.7 MB/s\u001b[0m eta \u001b[36m0:00:00\u001b[0m\n",
            "\u001b[?25h  Preparing metadata (setup.py) ... \u001b[?25l\u001b[?25hdone\n",
            "Requirement already satisfied: py4j==0.10.9.7 in /usr/local/lib/python3.10/dist-packages (from pyspark) (0.10.9.7)\n",
            "Building wheels for collected packages: pyspark\n",
            "  Building wheel for pyspark (setup.py) ... \u001b[?25l\u001b[?25hdone\n",
            "  Created wheel for pyspark: filename=pyspark-3.5.1-py2.py3-none-any.whl size=317488491 sha256=e70229887cfe150563239115a6dc1d344791307a6d94e9f3da717c8abb35ae35\n",
            "  Stored in directory: /root/.cache/pip/wheels/80/1d/60/2c256ed38dddce2fdd93be545214a63e02fbd8d74fb0b7f3a6\n",
            "Successfully built pyspark\n",
            "Installing collected packages: pyspark\n",
            "Successfully installed pyspark-3.5.1\n"
          ]
        },
        {
          "output_type": "execute_result",
          "data": {
            "text/plain": [
              "<SparkContext master=local[1] appName=lr2>"
            ],
            "text/html": [
              "\n",
              "        <div>\n",
              "            <p><b>SparkContext</b></p>\n",
              "\n",
              "            <p><a href=\"http://9dad77695d6f:4040\">Spark UI</a></p>\n",
              "\n",
              "            <dl>\n",
              "              <dt>Version</dt>\n",
              "                <dd><code>v3.5.1</code></dd>\n",
              "              <dt>Master</dt>\n",
              "                <dd><code>local[1]</code></dd>\n",
              "              <dt>AppName</dt>\n",
              "                <dd><code>lr2</code></dd>\n",
              "            </dl>\n",
              "        </div>\n",
              "        "
            ]
          },
          "metadata": {},
          "execution_count": 1
        }
      ],
      "source": [
        "!pip install pyspark\n",
        "import os\n",
        "import sys\n",
        "from pyspark.sql import SparkSession\n",
        "from typing import NamedTuple\n",
        "from datetime import datetime\n",
        "\n",
        "os.environ['PYSPARK_PYTHON'] = sys.executable\n",
        "os.environ['PYSPARK_DRIVER_PYTHON'] = sys.executable\n",
        "app_name = \"lr2\"\n",
        "spark = SparkSession.builder \\\n",
        "    .appName(app_name) \\\n",
        "    .master(\"local[1]\") \\\n",
        "    .getOrCreate()\n",
        "sc = spark.sparkContext\n",
        "sc"
      ]
    },
    {
      "cell_type": "code",
      "source": [
        "sc.stop()\n",
        "spark.stop()"
      ],
      "metadata": {
        "id": "eNM3vL4rm8x_"
      },
      "execution_count": null,
      "outputs": []
    },
    {
      "cell_type": "code",
      "source": [
        "from pyspark.sql.functions import col, explode, regexp_extract, lower, desc, split, regexp_replace\n",
        "from pyspark.sql.types import IntegerType"
      ],
      "metadata": {
        "id": "dEB9xTg2Pe54"
      },
      "execution_count": 2,
      "outputs": []
    },
    {
      "cell_type": "code",
      "source": [
        "def parse_xml(row):\n",
        "    import xml.etree.ElementTree as ET\n",
        "    try:\n",
        "        root = ET.fromstring(row)\n",
        "        return (int(root.attrib['Id']), root.attrib['CreationDate'], root.attrib.get('Tags', ''))\n",
        "    except Exception:\n",
        "        return None"
      ],
      "metadata": {
        "id": "uD_fgU6mPh0l"
      },
      "execution_count": 3,
      "outputs": []
    },
    {
      "cell_type": "code",
      "source": [
        "# Загрузка и парсинг данных\n",
        "posts_lines = spark.read.text(\"data/posts_sample.xml\").rdd.map(lambda r: r[0])\n",
        "total_lines = posts_lines.count()\n",
        "posts_data = posts_lines.zipWithIndex()\\\n",
        "    .filter(lambda x: x[1] > 0 and x[1] < total_lines - 1)\\\n",
        "    .map(lambda x: x[0])"
      ],
      "metadata": {
        "id": "JQO7sybuPYh1"
      },
      "execution_count": 7,
      "outputs": []
    },
    {
      "cell_type": "code",
      "source": [
        "posts_rdd = posts_data.map(parse_xml).filter(lambda x: x is not None)\n",
        "posts_df = spark.createDataFrame(posts_rdd, schema=\"Id INT, CreationDate STRING, Tags STRING\")\n",
        "\n",
        "# Выделение года и языков\n",
        "posts_df = posts_df.withColumn(\"Year\", regexp_extract(\"CreationDate\", \"(\\d{4})\", 1).cast(IntegerType()))\n",
        "posts_df = posts_df.filter((col(\"Year\") >= 2010) & (col(\"Year\") <= 2020))\n",
        "posts_df = posts_df.withColumn(\"Language\", explode(split(regexp_replace(\"Tags\", r\"<|>\", \" \"), \" \")))\n",
        "\n",
        "# Загрузка данных о языках программирования\n",
        "languages_df = spark.read.csv(\"data/programming-languages.csv\", header=True).select(col(\"name\").alias(\"LanguageName\"))\n",
        "\n",
        "# Сопоставление тегов и языков программирования\n",
        "result_df = posts_df.join(languages_df, lower(posts_df.Language) == lower(languages_df.LanguageName), \"inner\")\n",
        "\n",
        "# Группировка и подсчет упоминаний языков\n",
        "language_popularity = result_df.groupBy(\"Year\", \"LanguageName\").count().orderBy(\"Year\", desc(\"count\"))\n"
      ],
      "metadata": {
        "id": "baY89tuXPkdD"
      },
      "execution_count": 8,
      "outputs": []
    },
    {
      "cell_type": "code",
      "source": [
        "# Печать результатов и сохранение в Parquet с перезаписью\n",
        "for year in range(2010, 2021):\n",
        "    year_df = language_popularity.filter(col(\"Year\") == year).orderBy(desc(\"count\")).limit(10)\n",
        "    print(f\"Top 10 Languages for {year}:\")\n",
        "    year_df.show()\n",
        "    year_df.write.mode(\"overwrite\").parquet(f\"output/language_popularity_{year}.parquet\")"
      ],
      "metadata": {
        "colab": {
          "base_uri": "https://localhost:8080/"
        },
        "id": "1ZTNXXqbPbWv",
        "outputId": "d8380d3a-5335-46f1-85b3-1313a642b721"
      },
      "execution_count": 9,
      "outputs": [
        {
          "output_type": "stream",
          "name": "stdout",
          "text": [
            "Top 10 Languages for 2010:\n",
            "+----+------------+-----+\n",
            "|Year|LanguageName|count|\n",
            "+----+------------+-----+\n",
            "|2010|        Java|   52|\n",
            "|2010|         PHP|   46|\n",
            "|2010|  JavaScript|   44|\n",
            "|2010|      Python|   26|\n",
            "|2010| Objective-C|   23|\n",
            "|2010|           C|   20|\n",
            "|2010|        Ruby|   12|\n",
            "|2010|      Delphi|    8|\n",
            "|2010|        Bash|    3|\n",
            "|2010|           R|    3|\n",
            "+----+------------+-----+\n",
            "\n",
            "Top 10 Languages for 2011:\n",
            "+----+------------+-----+\n",
            "|Year|LanguageName|count|\n",
            "+----+------------+-----+\n",
            "|2011|         PHP|  102|\n",
            "|2011|        Java|   93|\n",
            "|2011|  JavaScript|   83|\n",
            "|2011|      Python|   37|\n",
            "|2011| Objective-C|   34|\n",
            "|2011|           C|   24|\n",
            "|2011|        Ruby|   20|\n",
            "|2011|        Perl|    9|\n",
            "|2011|      Delphi|    8|\n",
            "|2011|        Bash|    7|\n",
            "+----+------------+-----+\n",
            "\n",
            "Top 10 Languages for 2012:\n",
            "+----+------------+-----+\n",
            "|Year|LanguageName|count|\n",
            "+----+------------+-----+\n",
            "|2012|         PHP|  154|\n",
            "|2012|  JavaScript|  132|\n",
            "|2012|        Java|  124|\n",
            "|2012|      Python|   69|\n",
            "|2012| Objective-C|   45|\n",
            "|2012|           C|   27|\n",
            "|2012|        Ruby|   27|\n",
            "|2012|        Bash|   10|\n",
            "|2012|           R|    9|\n",
            "|2012|      MATLAB|    6|\n",
            "+----+------------+-----+\n",
            "\n",
            "Top 10 Languages for 2013:\n",
            "+----+------------+-----+\n",
            "|Year|LanguageName|count|\n",
            "+----+------------+-----+\n",
            "|2013|         PHP|  198|\n",
            "|2013|  JavaScript|  198|\n",
            "|2013|        Java|  194|\n",
            "|2013|      Python|   90|\n",
            "|2013| Objective-C|   40|\n",
            "|2013|           C|   36|\n",
            "|2013|        Ruby|   32|\n",
            "|2013|           R|   26|\n",
            "|2013|        Bash|   12|\n",
            "|2013|       Scala|   11|\n",
            "+----+------------+-----+\n",
            "\n",
            "Top 10 Languages for 2014:\n",
            "+----+------------+-----+\n",
            "|Year|LanguageName|count|\n",
            "+----+------------+-----+\n",
            "|2014|  JavaScript|  239|\n",
            "|2014|        Java|  228|\n",
            "|2014|         PHP|  167|\n",
            "|2014|      Python|  109|\n",
            "|2014|           C|   52|\n",
            "|2014| Objective-C|   52|\n",
            "|2014|           R|   28|\n",
            "|2014|        Ruby|   24|\n",
            "|2014|        Bash|   17|\n",
            "|2014|      MATLAB|   17|\n",
            "+----+------------+-----+\n",
            "\n",
            "Top 10 Languages for 2015:\n",
            "+----+------------+-----+\n",
            "|Year|LanguageName|count|\n",
            "+----+------------+-----+\n",
            "|2015|  JavaScript|  277|\n",
            "|2015|        Java|  209|\n",
            "|2015|         PHP|  167|\n",
            "|2015|      Python|  121|\n",
            "|2015|           R|   43|\n",
            "|2015|           C|   38|\n",
            "|2015| Objective-C|   30|\n",
            "|2015|        Ruby|   21|\n",
            "|2015|      MATLAB|   16|\n",
            "|2015|       Scala|   15|\n",
            "+----+------------+-----+\n",
            "\n",
            "Top 10 Languages for 2016:\n",
            "+----+------------+-----+\n",
            "|Year|LanguageName|count|\n",
            "+----+------------+-----+\n",
            "|2016|  JavaScript|  278|\n",
            "|2016|        Java|  184|\n",
            "|2016|         PHP|  155|\n",
            "|2016|      Python|  146|\n",
            "|2016|           R|   52|\n",
            "|2016|           C|   32|\n",
            "|2016|        Ruby|   24|\n",
            "|2016|        Bash|   18|\n",
            "|2016|       Scala|   16|\n",
            "|2016|      MATLAB|   15|\n",
            "+----+------------+-----+\n",
            "\n",
            "Top 10 Languages for 2017:\n",
            "+----+------------+-----+\n",
            "|Year|LanguageName|count|\n",
            "+----+------------+-----+\n",
            "|2017|  JavaScript|  246|\n",
            "|2017|        Java|  204|\n",
            "|2017|      Python|  193|\n",
            "|2017|         PHP|  138|\n",
            "|2017|           R|   56|\n",
            "|2017|           C|   25|\n",
            "|2017|  TypeScript|   20|\n",
            "|2017| Objective-C|   19|\n",
            "|2017|        Ruby|   17|\n",
            "|2017|        Bash|   14|\n",
            "+----+------------+-----+\n",
            "\n",
            "Top 10 Languages for 2018:\n",
            "+----+------------+-----+\n",
            "|Year|LanguageName|count|\n",
            "+----+------------+-----+\n",
            "|2018|      Python|  220|\n",
            "|2018|  JavaScript|  198|\n",
            "|2018|        Java|  146|\n",
            "|2018|         PHP|  111|\n",
            "|2018|           R|   66|\n",
            "|2018|  TypeScript|   27|\n",
            "|2018|           C|   24|\n",
            "|2018|       Scala|   23|\n",
            "|2018|  PowerShell|   13|\n",
            "|2018|        Bash|   12|\n",
            "+----+------------+-----+\n",
            "\n",
            "Top 10 Languages for 2019:\n",
            "+----+------------+-----+\n",
            "|Year|LanguageName|count|\n",
            "+----+------------+-----+\n",
            "|2019|      Python|  166|\n",
            "|2019|  JavaScript|  135|\n",
            "|2019|        Java|   95|\n",
            "|2019|         PHP|   65|\n",
            "|2019|           R|   37|\n",
            "|2019|  TypeScript|   17|\n",
            "|2019|           C|   14|\n",
            "|2019|        Bash|   11|\n",
            "|2019|          Go|    9|\n",
            "|2019|      MATLAB|    9|\n",
            "+----+------------+-----+\n",
            "\n",
            "Top 10 Languages for 2020:\n",
            "+----+------------+-----+\n",
            "|Year|LanguageName|count|\n",
            "+----+------------+-----+\n",
            "+----+------------+-----+\n",
            "\n"
          ]
        }
      ]
    }
  ]
}