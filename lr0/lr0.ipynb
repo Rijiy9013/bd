{
 "cells": [
  {
   "cell_type": "markdown",
   "metadata": {
    "id": "82OvPKEiEqjc"
   },
   "source": [
    "# Введение в MapReduce модель на Python\n"
   ]
  },
  {
   "cell_type": "code",
   "execution_count": null,
   "metadata": {
    "id": "JQ2cvXLjICmI"
   },
   "outputs": [],
   "source": [
    "from typing import NamedTuple # requires python 3.6+\n",
    "from typing import Iterator"
   ]
  },
  {
   "cell_type": "code",
   "execution_count": null,
   "metadata": {
    "id": "yjPHumVwEyEg"
   },
   "outputs": [],
   "source": [
    "def MAP(_, row:NamedTuple):\n",
    "  if (row.gender == 'female'):\n",
    "    yield (row.age, row)\n",
    "    \n",
    "def REDUCE(age:str, rows:Iterator[NamedTuple]):\n",
    "  sum = 0\n",
    "  count = 0\n",
    "  for row in rows:\n",
    "    sum += row.social_contacts\n",
    "    count += 1\n",
    "  if (count > 0):\n",
    "    yield (age, sum/count)\n",
    "  else:\n",
    "    yield (age, 0)"
   ]
  },
  {
   "cell_type": "markdown",
   "metadata": {
    "id": "vBKMgpG_ilaZ"
   },
   "source": [
    "Модель элемента данных"
   ]
  },
  {
   "cell_type": "code",
   "execution_count": null,
   "metadata": {
    "id": "Rv-XIjhTJPx3"
   },
   "outputs": [],
   "source": [
    "class User(NamedTuple):\n",
    "  id: int\n",
    "  age: str\n",
    "  social_contacts: int\n",
    "  gender: str"
   ]
  },
  {
   "cell_type": "code",
   "execution_count": null,
   "metadata": {
    "id": "5KV0Ze2vQgu5"
   },
   "outputs": [],
   "source": [
    "input_collection = [\n",
    "    User(id=0, age=55, gender='male', social_contacts=20),\n",
    "    User(id=1, age=25, gender='female', social_contacts=240),\n",
    "    User(id=2, age=25, gender='female', social_contacts=500),\n",
    "    User(id=3, age=33, gender='female', social_contacts=800)\n",
    "]"
   ]
  },
  {
   "cell_type": "markdown",
   "metadata": {
    "id": "YFeqzyZxZIFZ"
   },
   "source": [
    "Функция RECORDREADER моделирует чтение элементов с диска или по сети."
   ]
  },
  {
   "cell_type": "code",
   "execution_count": null,
   "metadata": {
    "id": "S5HR4E_GQoMJ"
   },
   "outputs": [],
   "source": [
    "def RECORDREADER():\n",
    "  return [(u.id, u) for u in input_collection]"
   ]
  },
  {
   "cell_type": "code",
   "execution_count": null,
   "metadata": {
    "colab": {
     "base_uri": "https://localhost:8080/",
     "height": 85
    },
    "id": "NeEoWla-ROUy",
    "outputId": "94ca6e0e-4644-4282-acbf-1759d7ba2918"
   },
   "outputs": [
    {
     "data": {
      "text/plain": [
       "[(0, User(id=0, age=55, social_contacts=20, gender='male')),\n",
       " (1, User(id=1, age=25, social_contacts=240, gender='female')),\n",
       " (2, User(id=2, age=25, social_contacts=500, gender='female')),\n",
       " (3, User(id=3, age=33, social_contacts=800, gender='female'))]"
      ]
     },
     "execution_count": 20,
     "metadata": {
      "tags": []
     },
     "output_type": "execute_result"
    }
   ],
   "source": [
    "list(RECORDREADER())"
   ]
  },
  {
   "cell_type": "code",
   "execution_count": null,
   "metadata": {
    "id": "YB8orgPSZs8M"
   },
   "outputs": [],
   "source": [
    "def flatten(nested_iterable):\n",
    "  for iterable in nested_iterable:\n",
    "    for element in iterable:\n",
    "      yield element"
   ]
  },
  {
   "cell_type": "code",
   "execution_count": null,
   "metadata": {
    "colab": {
     "base_uri": "https://localhost:8080/",
     "height": 68
    },
    "id": "74oyvDLaRmd5",
    "outputId": "c6147702-7153-47c7-a574-d5fe6abe29a8"
   },
   "outputs": [
    {
     "data": {
      "text/plain": [
       "[(25, User(id=1, age=25, social_contacts=240, gender='female')),\n",
       " (25, User(id=2, age=25, social_contacts=500, gender='female')),\n",
       " (33, User(id=3, age=33, social_contacts=800, gender='female'))]"
      ]
     },
     "execution_count": 22,
     "metadata": {
      "tags": []
     },
     "output_type": "execute_result"
    }
   ],
   "source": [
    "map_output = flatten(map(lambda x: MAP(*x), RECORDREADER()))\n",
    "map_output = list(map_output) # materialize\n",
    "map_output"
   ]
  },
  {
   "cell_type": "code",
   "execution_count": null,
   "metadata": {
    "id": "8ncYDJ3-VzDn"
   },
   "outputs": [],
   "source": [
    "def groupbykey(iterable):\n",
    "  t = {}\n",
    "  for (k2, v2) in iterable:\n",
    "    t[k2] = t.get(k2, []) + [v2]\n",
    "  return t.items()"
   ]
  },
  {
   "cell_type": "code",
   "execution_count": null,
   "metadata": {
    "colab": {
     "base_uri": "https://localhost:8080/",
     "height": 85
    },
    "id": "cKzY_6COWOA2",
    "outputId": "e6791b12-e409-47e9-bcd4-e9f8ca8611bd"
   },
   "outputs": [
    {
     "data": {
      "text/plain": [
       "[(25,\n",
       "  [User(id=1, age=25, social_contacts=240, gender='female'),\n",
       "   User(id=2, age=25, social_contacts=500, gender='female')]),\n",
       " (33, [User(id=3, age=33, social_contacts=800, gender='female')])]"
      ]
     },
     "execution_count": 24,
     "metadata": {
      "tags": []
     },
     "output_type": "execute_result"
    }
   ],
   "source": [
    "shuffle_output = groupbykey(map_output)\n",
    "shuffle_output = list(shuffle_output)\n",
    "shuffle_output"
   ]
  },
  {
   "cell_type": "code",
   "execution_count": null,
   "metadata": {
    "colab": {
     "base_uri": "https://localhost:8080/",
     "height": 34
    },
    "id": "NlA7lkDDYL0t",
    "outputId": "6b25d03f-5c92-4f3b-f500-6d70acd598b7"
   },
   "outputs": [
    {
     "data": {
      "text/plain": [
       "[(25, 370.0), (33, 800.0)]"
      ]
     },
     "execution_count": 25,
     "metadata": {
      "tags": []
     },
     "output_type": "execute_result"
    }
   ],
   "source": [
    "reduce_output = flatten(map(lambda x: REDUCE(*x), shuffle_output))\n",
    "reduce_output = list(reduce_output)\n",
    "reduce_output"
   ]
  },
  {
   "cell_type": "markdown",
   "metadata": {
    "id": "xf6qhHEtd6bI"
   },
   "source": [
    "Все действия одним конвейером!"
   ]
  },
  {
   "cell_type": "code",
   "execution_count": null,
   "metadata": {
    "colab": {
     "base_uri": "https://localhost:8080/",
     "height": 34
    },
    "id": "dZaQGYxCdpw5",
    "outputId": "3f5c6425-e5c5-49d2-b2cd-ce58a9acc33c"
   },
   "outputs": [
    {
     "data": {
      "text/plain": [
       "[(25, 370.0), (33, 800.0)]"
      ]
     },
     "execution_count": 26,
     "metadata": {
      "tags": []
     },
     "output_type": "execute_result"
    }
   ],
   "source": [
    "list(flatten(map(lambda x: REDUCE(*x), groupbykey(flatten(map(lambda x: MAP(*x), RECORDREADER()))))))"
   ]
  },
  {
   "cell_type": "markdown",
   "metadata": {
    "id": "Vq3EWRIpwSiJ"
   },
   "source": [
    "# **MapReduce**\n",
    "Выделим общую для всех пользователей часть системы в отдельную функцию высшего порядка. Это наиболее простая модель MapReduce, без учёта распределённого хранения данных. \n",
    "\n",
    "Пользователь для решения своей задачи реализует RECORDREADER, MAP, REDUCE."
   ]
  },
  {
   "cell_type": "code",
   "execution_count": null,
   "metadata": {
    "id": "V1PZeQMwwVjc"
   },
   "outputs": [],
   "source": [
    "def flatten(nested_iterable):\n",
    "  for iterable in nested_iterable:\n",
    "    for element in iterable:\n",
    "      yield element\n",
    "\n",
    "def groupbykey(iterable):\n",
    "  t = {}\n",
    "  for (k2, v2) in iterable:\n",
    "    t[k2] = t.get(k2, []) + [v2]\n",
    "  return t.items()\n",
    "\n",
    "def MapReduce(RECORDREADER, MAP, REDUCE):\n",
    "  return flatten(map(lambda x: REDUCE(*x), groupbykey(flatten(map(lambda x: MAP(*x), RECORDREADER())))))"
   ]
  },
  {
   "cell_type": "markdown",
   "metadata": {
    "id": "iFIVrimep678"
   },
   "source": [
    "## Спецификация MapReduce\n",
    "\n",
    "\n",
    "\n",
    "```\n",
    "f (k1, v1) -> (k2,v2)*\n",
    "g (k2, v2*) -> (k3,v3)*\n",
    " \n",
    "mapreduce ((k1,v1)*) -> (k3,v3)*\n",
    "groupby ((k2,v2)*) -> (k2,v2*)*\n",
    "flatten (e2**) -> e2*\n",
    " \n",
    "mapreduce .map(f).flatten.groupby(k2).map(g).flatten\n",
    "```\n",
    "\n",
    "\n"
   ]
  },
  {
   "cell_type": "markdown",
   "metadata": {
    "id": "QtTFyqke3KGe"
   },
   "source": [
    "# Примеры"
   ]
  },
  {
   "cell_type": "markdown",
   "metadata": {
    "id": "BNhh5763w5Vn"
   },
   "source": [
    "## SQL "
   ]
  },
  {
   "cell_type": "code",
   "execution_count": null,
   "metadata": {
    "colab": {
     "base_uri": "https://localhost:8080/",
     "height": 34
    },
    "id": "QkyurnvGxBGk",
    "outputId": "84761282-d2ba-435a-e8d7-a85150730e10"
   },
   "outputs": [
    {
     "data": {
      "text/plain": [
       "[(25, 370.0), (33, 800.0)]"
      ]
     },
     "execution_count": 28,
     "metadata": {
      "tags": []
     },
     "output_type": "execute_result"
    }
   ],
   "source": [
    "from typing import NamedTuple # requires python 3.6+\n",
    "from typing import Iterator\n",
    "\n",
    "class User(NamedTuple):\n",
    "  id: int\n",
    "  age: str\n",
    "  social_contacts: int\n",
    "  gender: str\n",
    "    \n",
    "input_collection = [\n",
    "    User(id=0, age=55, gender='male', social_contacts=20),\n",
    "    User(id=1, age=25, gender='female', social_contacts=240),\n",
    "    User(id=2, age=25, gender='female', social_contacts=500),\n",
    "    User(id=3, age=33, gender='female', social_contacts=800)\n",
    "]\n",
    "\n",
    "def MAP(_, row:NamedTuple):\n",
    "  if (row.gender == 'female'):\n",
    "    yield (row.age, row)\n",
    "    \n",
    "def REDUCE(age:str, rows:Iterator[NamedTuple]):\n",
    "  sum = 0\n",
    "  count = 0\n",
    "  for row in rows:\n",
    "    sum += row.social_contacts\n",
    "    count += 1\n",
    "  if (count > 0):\n",
    "    yield (age, sum/count)\n",
    "  else:\n",
    "    yield (age, 0)\n",
    " \n",
    "def RECORDREADER():\n",
    "  return [(u.id, u) for u in input_collection]\n",
    "\n",
    "output = MapReduce(RECORDREADER, MAP, REDUCE)\n",
    "output = list(output)\n",
    "output"
   ]
  },
  {
   "cell_type": "markdown",
   "metadata": {
    "id": "kNKYIeerx0nY"
   },
   "source": [
    "## Matrix-Vector multiplication "
   ]
  },
  {
   "cell_type": "code",
   "execution_count": null,
   "metadata": {
    "colab": {
     "base_uri": "https://localhost:8080/",
     "height": 102
    },
    "id": "rwcntRcCyi1V",
    "outputId": "606737ab-6b55-455c-931f-4fc45155f8a9"
   },
   "outputs": [
    {
     "data": {
      "text/plain": [
       "[(0, 2.905589809636405),\n",
       " (1, 2.905589809636405),\n",
       " (2, 2.905589809636405),\n",
       " (3, 2.905589809636405),\n",
       " (4, 2.905589809636405)]"
      ]
     },
     "execution_count": 29,
     "metadata": {
      "tags": []
     },
     "output_type": "execute_result"
    }
   ],
   "source": [
    "from typing import Iterator\n",
    "import numpy as np\n",
    "\n",
    "mat = np.ones((5,4))\n",
    "vec = np.random.rand(4) # in-memory vector in all map tasks\n",
    "\n",
    "def MAP(coordinates:(int, int), value:int):\n",
    "  i, j = coordinates\n",
    "  yield (i, value*vec[j])\n",
    " \n",
    "def REDUCE(i:int, products:Iterator[NamedTuple]):\n",
    "  sum = 0\n",
    "  for p in products:\n",
    "    sum += p\n",
    "  yield (i, sum)\n",
    "\n",
    "def RECORDREADER():\n",
    "  for i in range(mat.shape[0]):\n",
    "    for j in range(mat.shape[1]):\n",
    "      yield ((i, j), mat[i,j])\n",
    "      \n",
    "output = MapReduce(RECORDREADER, MAP, REDUCE)\n",
    "output = list(output)\n",
    "output"
   ]
  },
  {
   "cell_type": "markdown",
   "metadata": {
    "id": "ruZREYdi2o4O"
   },
   "source": [
    "## Inverted index "
   ]
  },
  {
   "cell_type": "code",
   "execution_count": null,
   "metadata": {
    "colab": {
     "base_uri": "https://localhost:8080/",
     "height": 102
    },
    "id": "vt9H9Alf3TYv",
    "outputId": "51aeffc9-e111-4607-bd84-cfcc7b56f238"
   },
   "outputs": [
    {
     "data": {
      "text/plain": [
       "[('what', ['0', '1']),\n",
       " ('is', ['0', '1', '2']),\n",
       " ('it', ['0', '1', '2']),\n",
       " ('a', ['2']),\n",
       " ('banana', ['2'])]"
      ]
     },
     "execution_count": 30,
     "metadata": {
      "tags": []
     },
     "output_type": "execute_result"
    }
   ],
   "source": [
    "from typing import Iterator\n",
    "\n",
    "d1 = \"it is what it is\"\n",
    "d2 = \"what is it\"\n",
    "d3 = \"it is a banana\"\n",
    "documents = [d1, d2, d3]\n",
    "\n",
    "def RECORDREADER():\n",
    "  for (docid, document) in enumerate(documents):\n",
    "    yield (\"{}\".format(docid), document)\n",
    "      \n",
    "def MAP(docId:str, body:str):\n",
    "  for word in set(body.split(' ')):\n",
    "    yield (word, docId)\n",
    " \n",
    "def REDUCE(word:str, docIds:Iterator[str]):\n",
    "  yield (word, sorted(docIds))\n",
    "\n",
    "output = MapReduce(RECORDREADER, MAP, REDUCE)\n",
    "output = list(output)\n",
    "output"
   ]
  },
  {
   "cell_type": "markdown",
   "metadata": {
    "id": "R7az-6DA6qr2"
   },
   "source": [
    "## WordCount"
   ]
  },
  {
   "cell_type": "code",
   "execution_count": null,
   "metadata": {
    "colab": {
     "base_uri": "https://localhost:8080/",
     "height": 34
    },
    "id": "dN-nbtgG6uYG",
    "outputId": "24117576-7931-401d-a581-28e246b23453"
   },
   "outputs": [
    {
     "data": {
      "text/plain": [
       "[('', 3), ('it', 9), ('is', 9), ('what', 5), ('a', 1), ('banana', 1)]"
      ]
     },
     "execution_count": 31,
     "metadata": {
      "tags": []
     },
     "output_type": "execute_result"
    }
   ],
   "source": [
    "from typing import Iterator\n",
    "\n",
    "d1 = \"\"\"\n",
    "it is what it is\n",
    "it is what it is\n",
    "it is what it is\"\"\"\n",
    "d2 = \"\"\"\n",
    "what is it\n",
    "what is it\"\"\"\n",
    "d3 = \"\"\"\n",
    "it is a banana\"\"\"\n",
    "documents = [d1, d2, d3]\n",
    "\n",
    "def RECORDREADER():\n",
    "  for (docid, document) in enumerate(documents):\n",
    "    for (lineid, line) in enumerate(document.split('\\n')):\n",
    "      yield (\"{}:{}\".format(docid,lineid), line)\n",
    "\n",
    "def MAP(docId:str, line:str):\n",
    "  for word in line.split(\" \"):  \n",
    "    yield (word, 1)\n",
    " \n",
    "def REDUCE(word:str, counts:Iterator[int]):\n",
    "  sum = 0\n",
    "  for c in counts:\n",
    "    sum += c\n",
    "  yield (word, sum)\n",
    "\n",
    "output = MapReduce(RECORDREADER, MAP, REDUCE)\n",
    "output = list(output)\n",
    "output"
   ]
  },
  {
   "cell_type": "markdown",
   "metadata": {
    "id": "h-jRAcYCAkkk"
   },
   "source": [
    "# MapReduce Distributed\n",
    "\n",
    "Добавляется в модель фабрика RECORDREARER-ов --- INPUTFORMAT, функция распределения промежуточных результатов по партициям PARTITIONER, и функция COMBINER для частичной аггрегации промежуточных результатов до распределения по новым партициям."
   ]
  },
  {
   "cell_type": "code",
   "execution_count": null,
   "metadata": {
    "id": "nw-b-xJsApgW"
   },
   "outputs": [],
   "source": [
    "def flatten(nested_iterable):\n",
    "  for iterable in nested_iterable:\n",
    "    for element in iterable:\n",
    "      yield element\n",
    "\n",
    "def groupbykey(iterable):\n",
    "  t = {}\n",
    "  for (k2, v2) in iterable:\n",
    "    t[k2] = t.get(k2, []) + [v2]\n",
    "  return t.items()\n",
    "      \n",
    "def groupbykey_distributed(map_partitions, PARTITIONER):\n",
    "  global reducers\n",
    "  partitions = [dict() for _ in range(reducers)]\n",
    "  for map_partition in map_partitions:\n",
    "    for (k2, v2) in map_partition:\n",
    "      p = partitions[PARTITIONER(k2)]\n",
    "      p[k2] = p.get(k2, []) + [v2]\n",
    "  return [(partition_id, sorted(partition.items(), key=lambda x: x[0])) for (partition_id, partition) in enumerate(partitions)]\n",
    " \n",
    "def PARTITIONER(obj):\n",
    "  global reducers\n",
    "  return hash(obj) % reducers\n",
    "  \n",
    "def MapReduceDistributed(INPUTFORMAT, MAP, REDUCE, PARTITIONER=PARTITIONER, COMBINER=None):\n",
    "  map_partitions = map(lambda record_reader: flatten(map(lambda k1v1: MAP(*k1v1), record_reader)), INPUTFORMAT())\n",
    "  if COMBINER != None:\n",
    "    map_partitions = map(lambda map_partition: flatten(map(lambda k2v2: COMBINER(*k2v2), groupbykey(map_partition))), map_partitions)\n",
    "  reduce_partitions = groupbykey_distributed(map_partitions, PARTITIONER) # shuffle\n",
    "  reduce_outputs = map(lambda reduce_partition: (reduce_partition[0], flatten(map(lambda reduce_input_group: REDUCE(*reduce_input_group), reduce_partition[1]))), reduce_partitions)\n",
    "  \n",
    "  print(\"{} key-value pairs were sent over a network.\".format(sum([len(vs) for (k,vs) in flatten([partition for (partition_id, partition) in reduce_partitions])])))\n",
    "  return reduce_outputs"
   ]
  },
  {
   "cell_type": "markdown",
   "metadata": {
    "id": "kxirlf3XqZxY"
   },
   "source": [
    "## Спецификация MapReduce Distributed\n",
    "\n",
    "\n",
    "```\n",
    "f (k1, v1) -> (k2,v2)*\n",
    "g (k2, v2*) -> (k3,v3)*\n",
    " \n",
    "e1 (k1, v1)\n",
    "e2 (k2, v2)\n",
    "partition1 (k2, v2)*\n",
    "partition2 (k2, v2*)*\n",
    " \n",
    "flatmap (e1->e2*, e1*) -> partition1*\n",
    "groupby (partition1*) -> partition2*\n",
    "\n",
    "mapreduce ((k1,v1)*) -> (k3,v3)*\n",
    "mapreduce .flatmap(f).groupby(k2).flatmap(g)\n",
    "```\n",
    "\n"
   ]
  },
  {
   "cell_type": "markdown",
   "metadata": {
    "id": "CWYw_CpbbY3C"
   },
   "source": [
    "## WordCount "
   ]
  },
  {
   "cell_type": "code",
   "execution_count": null,
   "metadata": {
    "colab": {
     "base_uri": "https://localhost:8080/",
     "height": 68
    },
    "id": "uR_zfGFkMZlp",
    "outputId": "c8d46167-473d-43b9-881a-2396991b3731"
   },
   "outputs": [
    {
     "name": "stdout",
     "output_type": "stream",
     "text": [
      "56 key-value pairs were sent over a network.\n"
     ]
    },
    {
     "data": {
      "text/plain": [
       "[(0, [('', 6), ('a', 2), ('banana', 2), ('is', 18), ('it', 18), ('what', 10)]),\n",
       " (1, [])]"
      ]
     },
     "execution_count": 33,
     "metadata": {
      "tags": []
     },
     "output_type": "execute_result"
    }
   ],
   "source": [
    "from typing import Iterator\n",
    "import numpy as np\n",
    "\n",
    "d1 = \"\"\"\n",
    "it is what it is\n",
    "it is what it is\n",
    "it is what it is\"\"\"\n",
    "d2 = \"\"\"\n",
    "what is it\n",
    "what is it\"\"\"\n",
    "d3 = \"\"\"\n",
    "it is a banana\"\"\"\n",
    "documents = [d1, d2, d3, d1, d2, d3]\n",
    "\n",
    "maps = 3\n",
    "reducers = 2\n",
    "\n",
    "def INPUTFORMAT():\n",
    "  global maps\n",
    "  \n",
    "  def RECORDREADER(split):\n",
    "    for (docid, document) in enumerate(split):\n",
    "      for (lineid, line) in enumerate(document.split('\\n')):\n",
    "        yield (\"{}:{}\".format(docid,lineid), line)\n",
    "      \n",
    "  split_size =  int(np.ceil(len(documents)/maps))\n",
    "  for i in range(0, len(documents), split_size):\n",
    "    yield RECORDREADER(documents[i:i+split_size])\n",
    "\n",
    "def MAP(docId:str, line:str):\n",
    "  for word in line.split(\" \"):  \n",
    "    yield (word, 1)\n",
    " \n",
    "def REDUCE(word:str, counts:Iterator[int]):\n",
    "  sum = 0\n",
    "  for c in counts:\n",
    "    sum += c\n",
    "  yield (word, sum)\n",
    "  \n",
    "# try to set COMBINER=REDUCER and look at the number of values sent over the network \n",
    "partitioned_output = MapReduceDistributed(INPUTFORMAT, MAP, REDUCE, COMBINER=None) \n",
    "partitioned_output = [(partition_id, list(partition)) for (partition_id, partition) in partitioned_output]\n",
    "partitioned_output"
   ]
  },
  {
   "cell_type": "markdown",
   "metadata": {
    "id": "gCJGx8IQ87xS"
   },
   "source": [
    "## TeraSort"
   ]
  },
  {
   "cell_type": "code",
   "execution_count": null,
   "metadata": {
    "colab": {
     "base_uri": "https://localhost:8080/",
     "height": 578
    },
    "id": "P2v8v1v_8_YR",
    "outputId": "e0987c25-9757-46cb-8e55-d5d2adfbee2b"
   },
   "outputs": [
    {
     "name": "stdout",
     "output_type": "stream",
     "text": [
      "30 key-value pairs were sent over a network.\n"
     ]
    },
    {
     "data": {
      "text/plain": [
       "[(0,\n",
       "  [(None, 0.0059671639991895065),\n",
       "   (None, 0.07724245496172),\n",
       "   (None, 0.08440804135613444),\n",
       "   (None, 0.13575647907181598),\n",
       "   (None, 0.14404826813474803),\n",
       "   (None, 0.21204275967955666),\n",
       "   (None, 0.21869633101751806),\n",
       "   (None, 0.25055756276216923),\n",
       "   (None, 0.28642389538931257),\n",
       "   (None, 0.3834487515438496),\n",
       "   (None, 0.3913614390023946),\n",
       "   (None, 0.4041378102237341),\n",
       "   (None, 0.41854626274930695),\n",
       "   (None, 0.4704310153549396),\n",
       "   (None, 0.4776995227348928),\n",
       "   (None, 0.48992216726013693)]),\n",
       " (1,\n",
       "  [(None, 0.5005353544023048),\n",
       "   (None, 0.5135664686748047),\n",
       "   (None, 0.53391984417089),\n",
       "   (None, 0.5587932025401512),\n",
       "   (None, 0.5673804905854288),\n",
       "   (None, 0.6926646597910275),\n",
       "   (None, 0.7237444251339501),\n",
       "   (None, 0.7557883138083207),\n",
       "   (None, 0.785709769245918),\n",
       "   (None, 0.7937098630029404),\n",
       "   (None, 0.7942646850708935),\n",
       "   (None, 0.9160468126494941),\n",
       "   (None, 0.9618068292060864),\n",
       "   (None, 0.9820764489731459)])]"
      ]
     },
     "execution_count": 34,
     "metadata": {
      "tags": []
     },
     "output_type": "execute_result"
    }
   ],
   "source": [
    "import numpy as np\n",
    "\n",
    "input_values = np.random.rand(30)\n",
    "maps = 3\n",
    "reducers = 2\n",
    "min_value = 0.0\n",
    "max_value = 1.0\n",
    "\n",
    "def INPUTFORMAT():\n",
    "  global maps\n",
    "  \n",
    "  def RECORDREADER(split):\n",
    "    for value in split:\n",
    "        yield (value, None)\n",
    "      \n",
    "  split_size =  int(np.ceil(len(input_values)/maps))\n",
    "  for i in range(0, len(input_values), split_size):\n",
    "    yield RECORDREADER(input_values[i:i+split_size])\n",
    "    \n",
    "def MAP(value:int, _):\n",
    "  yield (value, None)\n",
    "  \n",
    "def PARTITIONER(key):\n",
    "  global reducers\n",
    "  global max_value\n",
    "  global min_value\n",
    "  bucket_size = (max_value-min_value)/reducers\n",
    "  bucket_id = 0\n",
    "  while((key>(bucket_id+1)*bucket_size) and ((bucket_id+1)*bucket_size<max_value)):\n",
    "    bucket_id += 1\n",
    "  return bucket_id\n",
    "\n",
    "def REDUCE(value:int, _):\n",
    "  yield (None,value)\n",
    "  \n",
    "partitioned_output = MapReduceDistributed(INPUTFORMAT, MAP, REDUCE, COMBINER=None, PARTITIONER=PARTITIONER)\n",
    "partitioned_output = [(partition_id, list(partition)) for (partition_id, partition) in partitioned_output]\n",
    "partitioned_output"
   ]
  },
  {
   "cell_type": "code",
   "execution_count": null,
   "metadata": {
    "id": "MQhoJaVZI93G"
   },
   "outputs": [],
   "source": []
  },
  {
   "cell_type": "markdown",
   "metadata": {
    "id": "Iy65YJTH99iT"
   },
   "source": [
    "# Упражнения\n",
    "Упражнения взяты из Rajaraman A., Ullman J. D. Mining of massive datasets. – Cambridge University Press, 2011.\n",
    "\n",
    "\n",
    "Для выполнения заданий переопределите функции RECORDREADER, MAP, REDUCE. Для модели распределённой системы может потребоваться переопределение функций PARTITION и COMBINER."
   ]
  },
  {
   "cell_type": "code",
   "execution_count": 1,
   "metadata": {},
   "outputs": [],
   "source": [
    "import random\n",
    "from typing import Iterator\n",
    "import itertools"
   ]
  },
  {
   "cell_type": "markdown",
   "metadata": {
    "id": "cfvAeZm3S8S8"
   },
   "source": [
    "### Максимальное значение ряда\n",
    "\n",
    "Разработайте MapReduce алгоритм, который находит максимальное число входного списка чисел."
   ]
  },
  {
   "cell_type": "code",
   "execution_count": 9,
   "metadata": {
    "id": "3GRA1JR-Tkbg"
   },
   "outputs": [
    {
     "name": "stdout",
     "output_type": "stream",
     "text": [
      "[57, 64, 67, 92, 57, 3, 51, 15, 68, 49]\n",
      "[92]\n"
     ]
    }
   ],
   "source": [
    "input_numbers = [random.randint(1, 100) for _ in range(10)]\n",
    "print(input_numbers)\n",
    "\n",
    "# RECORDREADER\n",
    "def RECORDREADER():\n",
    "    for index, value in enumerate(input_numbers):\n",
    "        yield (index, value)\n",
    "\n",
    "# MAP функция\n",
    "def MAP(_, value):\n",
    "    yield (None, value)  # Ключ не важен\n",
    "\n",
    "# REDUCE функция\n",
    "def REDUCE(_, values: Iterator):\n",
    "    max_value = max(values)  # Находим максимум среди всех значений\n",
    "    return max_value\n",
    "\n",
    "# Исполнение MapReduce\n",
    "def MapReduce(RECORDREADER, MAP, REDUCE):\n",
    "    map_output = [MAP(key, value) for key, value in RECORDREADER()]\n",
    "    shuffle_output = {}\n",
    "    for item in map_output:\n",
    "        for key, value in item:\n",
    "            shuffle_output.setdefault(key, []).append(value)\n",
    "    reduce_output = [REDUCE(key, values) for key, values in shuffle_output.items()]\n",
    "    return reduce_output\n",
    "\n",
    "# Выполнение MapReduce алгоритма\n",
    "max_value_output = MapReduce(RECORDREADER, MAP, REDUCE)\n",
    "print(max_value_output)\n"
   ]
  },
  {
   "cell_type": "markdown",
   "metadata": {
    "id": "k86bXnqZTk-U"
   },
   "source": [
    "### Арифметическое среднее\n",
    "\n",
    "Разработайте MapReduce алгоритм, который находит арифметическое среднее.\n",
    "\n",
    "$$\\overline{X} = \\frac{1}{n}\\sum_{i=0}^{n} x_i$$\n"
   ]
  },
  {
   "cell_type": "code",
   "execution_count": 13,
   "metadata": {
    "id": "MPoY5pkfUNZf"
   },
   "outputs": [
    {
     "name": "stdout",
     "output_type": "stream",
     "text": [
      "[10, 11, 12]\n",
      "Среднее значение: 11.0\n"
     ]
    }
   ],
   "source": [
    "#input_numbers = [random.randint(1, 100) for _ in range(10)]\n",
    "input_numbers = [10, 11, 12]\n",
    "print(input_numbers)\n",
    "\n",
    "# RECORDREADER\n",
    "def RECORDREADER():\n",
    "    for index, value in enumerate(input_numbers):\n",
    "        yield (index, value)\n",
    "\n",
    "# MAP функция\n",
    "def MAP(_, value):\n",
    "    yield (None, value)  # Ключ не важен\n",
    "\n",
    "# REDUCE функция\n",
    "def REDUCE(_, values: Iterator):\n",
    "    sum_values = sum(values)  # Суммируем все значения\n",
    "    count_values = sum(1 for _ in values)  # Считаем количество значений\n",
    "    return sum_values / count_values  # Возвращаем среднее значение\n",
    "\n",
    "\n",
    "# Исполнение MapReduce\n",
    "def MapReduce(RECORDREADER, MAP, REDUCE):\n",
    "    map_output = [MAP(key, value) for key, value in RECORDREADER()]\n",
    "    shuffle_output = {}\n",
    "    for item in map_output:\n",
    "        for key, value in item:\n",
    "            shuffle_output.setdefault(key, []).append(value)\n",
    "    reduce_output = [REDUCE(key, values) for key, values in shuffle_output.items()]\n",
    "    return reduce_output\n",
    "\n",
    "average_value_output = list(MapReduce(RECORDREADER, MAP, REDUCE))\n",
    "print(\"Среднее значение:\", average_value_output[0])"
   ]
  },
  {
   "cell_type": "markdown",
   "metadata": {
    "id": "xanzszhsIlLe"
   },
   "source": [
    "### GroupByKey на основе сортировки\n",
    "\n",
    "Реализуйте groupByKey на основе сортировки, проверьте его работу на примерах"
   ]
  },
  {
   "cell_type": "code",
   "execution_count": 3,
   "metadata": {
    "id": "hQPn3USsIkEC"
   },
   "outputs": [
    {
     "name": "stdout",
     "output_type": "stream",
     "text": [
      "Вход: [23, 83, 37, 81, 4, 6, 16, 63, 2, 39]\n",
      "Выход: [37.5]\n"
     ]
    }
   ],
   "source": [
    "# Функция для выравнивания списка списков\n",
    "def flatten(lst):\n",
    "    return list(chain.from_iterable(lst))\n",
    "\n",
    "# Функция MAP, которая возвращает пару (ключ, значение)\n",
    "def MAP(input_data):\n",
    "    return (1, input_data)\n",
    "\n",
    "# Функция для группировки по ключу\n",
    "def groupbykey(items):\n",
    "    sorted_items = sorted(items, key=lambda x: x[0])\n",
    "    grouped = {}\n",
    "    for key, value in sorted_items:\n",
    "        if key in grouped:\n",
    "            grouped[key].append(value)\n",
    "        else:\n",
    "            grouped[key] = [value]\n",
    "    return [(k, list(v)) for k, v in grouped.items()]\n",
    "\n",
    "# Функция REDUCE, вычисляющая среднее значение\n",
    "def REDUCE(key, values):\n",
    "    total_sum = sum(values)\n",
    "    total_count = len(values)\n",
    "    average = total_sum / total_count if total_count > 0 else 0\n",
    "    return average\n",
    "\n",
    "# Функция, имитирующая чтение записей (в данном случае генерирует случайные числа)\n",
    "def RECORDREADER(count):\n",
    "    return [random.randint(0, 100) for i in range(count)]\n",
    "\n",
    "# Функция MapReduce для применения всех этапов MapReduce\n",
    "def MapReduce(RECORDREADER, MAP, REDUCE, count):\n",
    "    mapped_data = map(MAP, RECORDREADER(count))\n",
    "    shuffle_output = groupbykey(mapped_data)\n",
    "    reduce_output = map(lambda x: REDUCE(*x), shuffle_output)\n",
    "    return list(reduce_output)\n",
    "\n",
    "# Генерируем данные и применяем функцию MapReduce\n",
    "count = 10\n",
    "input_data = RECORDREADER(count)\n",
    "print(\"Вход:\", input_data)\n",
    "reduce_output = MapReduce(RECORDREADER, MAP, REDUCE, count)\n",
    "print(\"Выход:\", reduce_output)"
   ]
  },
  {
   "cell_type": "markdown",
   "metadata": {
    "id": "5SgEjCZyGnu6"
   },
   "source": [
    "### Drop duplicates (set construction, unique elements, distinct)\n",
    "\n",
    "Реализуйте распределённую операцию исключения дубликатов"
   ]
  },
  {
   "cell_type": "code",
   "execution_count": 2,
   "metadata": {
    "id": "okjbyApjGhMt"
   },
   "outputs": [
    {
     "name": "stdout",
     "output_type": "stream",
     "text": [
      "Вход: [7, 9, 2, 1, 4, 8, 9, 7, 5, 4, 1, 10, 2, 7, 3, 0, 7, 1, 9, 5]\n",
      "Выход: [0, 1, 2, 3, 6, 7, 8, 9, 10]\n"
     ]
    }
   ],
   "source": [
    "# Функция для выравнивания списка списков\n",
    "def flatten(lst):\n",
    "    return list(chain.from_iterable(lst))\n",
    "\n",
    "# Функция MAP, которая возвращает пару (ключ, значение), где ключ - сам элемент, значение - флаг (0 для уникального элемента, 1 для дубликата)\n",
    "def MAP(input_data):\n",
    "    return (input_data, 0)\n",
    "\n",
    "# Функция для группировки по ключу и удаления дубликатов\n",
    "def groupbykey(items):\n",
    "    sorted_items = sorted(items, key=lambda x: x[0])\n",
    "    unique_items = []\n",
    "    previous_key = None\n",
    "    for key, value in sorted_items:\n",
    "        if key != previous_key:\n",
    "            unique_items.append((key, value))\n",
    "        previous_key = key\n",
    "    return unique_items\n",
    "\n",
    "# Функция REDUCE, которая просто возвращает уникальные элементы\n",
    "def REDUCE(key, values):\n",
    "    return key\n",
    "\n",
    "# Функция, имитирующая чтение записей (в данном случае генерирует случайные числа)\n",
    "def RECORDREADER(count):\n",
    "    return [random.randint(0, 10) for _ in range(count)]\n",
    "\n",
    "# Функция MapReduce для применения всех этапов MapReduce\n",
    "def MapReduce(RECORDREADER, MAP, REDUCE, count):\n",
    "    mapped_data = map(MAP, RECORDREADER(count))\n",
    "    shuffle_output = groupbykey(mapped_data)\n",
    "    reduce_output = map(lambda x: REDUCE(*x), shuffle_output)\n",
    "    return list(reduce_output)\n",
    "\n",
    "# Генерируем данные и применяем функцию MapReduce\n",
    "count = 20\n",
    "input_data = RECORDREADER(count)\n",
    "print(\"Вход:\", input_data)\n",
    "unique_elements = MapReduce(RECORDREADER, MAP, REDUCE, count)\n",
    "print(\"Выход:\", unique_elements)"
   ]
  },
  {
   "cell_type": "markdown",
   "metadata": {
    "id": "e7sRGoTXuJze"
   },
   "source": [
    "#Операторы реляционной алгебры\n",
    "### Selection (Выборка)\n",
    "\n",
    "**The Map Function**: Для  каждого кортежа $t \\in R$ вычисляется истинность предиката $C$. В случае истины создаётся пара ключ-значение $(t, t)$. В паре ключ и значение одинаковы, равны $t$.\n",
    "\n",
    "**The Reduce Function:** Роль функции Reduce выполняет функция идентичности, которая возвращает то же значение, что получила на вход.\n",
    "\n"
   ]
  },
  {
   "cell_type": "code",
   "execution_count": 8,
   "metadata": {
    "id": "4nKIKe59uIfc"
   },
   "outputs": [
    {
     "name": "stdout",
     "output_type": "stream",
     "text": [
      "Вход: [(35, 38, 82), (84, 18, 53), (21, 28, 59), (34, 25, 89), (36, 91, 96), (61, 43, 60), (83, 67, 40), (56, 99, 37), (50, 78, 71), (94, 47, 31)]\n",
      "Выход: [(36, 91, 96)]\n"
     ]
    }
   ],
   "source": [
    "# Функция, генерирующая список случайных трёхмерных кортежей\n",
    "def RECORDREADER(count):\n",
    "    return [(random.randint(0, 100), random.randint(0, 100), random.randint(0, 100)) for i in range(count)]\n",
    "\n",
    "# Предикат для функции MAP\n",
    "def C(t):\n",
    "    return sum(t) > 200\n",
    "\n",
    "# Функция MAP\n",
    "def MAP(el_list):\n",
    "    return {t: [t] for t in el_list if C(t)}.items()\n",
    "\n",
    "# Функция REDUCE\n",
    "def REDUCE(mapped_items):\n",
    "    return [key for key, _ in mapped_items]\n",
    "\n",
    "# Генерация записей\n",
    "record = RECORDREADER(10)\n",
    "print(\"Вход:\", record)\n",
    "\n",
    "# Разбиваем записи на части\n",
    "part_count = 5\n",
    "record_partitional = [record[i:i + part_count] for i in range(0, len(record), part_count)]\n",
    "\n",
    "# Применяем функции MAP и REDUCE\n",
    "reduced_output = REDUCE([item for sublist in map(MAP, record_partitional) for item in sublist])\n",
    "print(\"Выход:\", reduced_output)"
   ]
  },
  {
   "cell_type": "markdown",
   "metadata": {
    "id": "w27Ca-_Ku85V"
   },
   "source": [
    "### Projection (Проекция)\n",
    "\n",
    "Проекция на множество атрибутов $S$.\n",
    "\n",
    "**The Map Function:** Для каждого кортежа $t \\in R$ создайте кортеж $t′$, исключая  из $t$ те значения, атрибуты которых не принадлежат  $S$. Верните пару $(t′, t′)$.\n",
    "\n",
    "**The Reduce Function:** Для каждого ключа $t′$, созданного любой Map задачей, вы получаете одну или несколько пар $(t′, t′)$. Reduce функция преобразует $(t′, [t′, t′, . . . , t′])$ в $(t′, t′)$, так, что для ключа $t′$ возвращается одна пара  $(t′, t′)$."
   ]
  },
  {
   "cell_type": "code",
   "execution_count": null,
   "metadata": {
    "id": "BEvuY4GqvhS6"
   },
   "outputs": [],
   "source": [
    "# Определяем множество индексов для проекции\n",
    "S = {0, 2}  # Проекция на первый и третий элементы трёхмерного кортежа\n",
    "\n",
    "def MAP(t):\n",
    "    # Проекция кортежа на множество атрибутов S\n",
    "    res = tuple(t[i] for i in range(len(t)) if i in S)\n",
    "    return (res, res)\n",
    "\n",
    "def REDUCE(key, values):\n",
    "    # Возвращаем только ключ, так как значения дублируют ключ\n",
    "    return key\n",
    "\n",
    "def RECORDREADER(count):\n",
    "    # Генерация списка случайных трёхмерных кортежей\n",
    "    return [(random.randint(0, 100), random.randint(0, 100), random.randint(0, 100)) for _ in range(count)]\n",
    "\n",
    "def group_by_key(iterable):\n",
    "    grouped = {}\n",
    "    for k, v in iterable:\n",
    "        grouped.setdefault(k, []).append(v)\n",
    "    return list(grouped.items())\n",
    "\n",
    "# Генерация и обработка записей\n",
    "record = RECORDREADER(5)\n",
    "map_output = [MAP(x) for x in record]\n",
    "shuffle_output = group_by_key(map_output)\n",
    "reduce_output = [REDUCE(key, values) for key, values in shuffle_output]\n",
    "\n",
    "# Вывод результатов\n",
    "print(\"Original records:\", record)\n",
    "print(\"Map output:\", map_output)\n",
    "print(\"Shuffle (group by key) output:\", shuffle_output)\n",
    "print(\"Reduce output:\", reduce_output)\n"
   ]
  },
  {
   "cell_type": "markdown",
   "metadata": {
    "id": "7gau6lKXvn2R"
   },
   "source": [
    "### Union (Объединение)\n",
    "\n",
    "**The Map Function:** Превратите каждый входной кортеж $t$ в пару ключ-значение $(t, t)$.\n",
    "\n",
    "**The Reduce Function:** С каждым ключом $t$ будет ассоциировано одно или два значений. В обоих случаях создайте $(t, t)$ в качестве выходного значения."
   ]
  },
  {
   "cell_type": "code",
   "execution_count": 20,
   "metadata": {
    "id": "Sns7a5agv3nw"
   },
   "outputs": [
    {
     "name": "stdout",
     "output_type": "stream",
     "text": [
      "Исходные записи: [(67, 87, 53), (99, 38, 63), (38, 63, 53)]\n",
      "Результат работы функции 'map': [((67, 87, 53), (67, 87, 53)), ((99, 38, 63), (99, 38, 63)), ((38, 63, 53), (38, 63, 53))]\n",
      "Результат группировки по ключу (Shuffle): {(67, 87, 53): [(67, 87, 53)], (99, 38, 63): [(99, 38, 63)], (38, 63, 53): [(38, 63, 53)]}\n",
      "Результат работы функции 'reduce': [((67, 87, 53), (67, 87, 53)), ((99, 38, 63), (99, 38, 63)), ((38, 63, 53), (38, 63, 53))]\n"
     ]
    }
   ],
   "source": [
    "from typing import List, Tuple, Dict, Any, Iterable\n",
    "\n",
    "TupleType = Tuple[int, int, int]\n",
    "\n",
    "# Функция MAP\n",
    "def MAP(t) :\n",
    "    return (t, t)\n",
    "\n",
    "# Функция REDUCE\n",
    "def REDUCE(key, values):\n",
    "    return (key, key)\n",
    "\n",
    "# Функция для генерации случайных кортежей\n",
    "def RECORDREADER(count):\n",
    "    return [(random.randint(0, 100), random.randint(0, 100), random.randint(0, 100)) for _ in range(count)]\n",
    "\n",
    "# Функция для группировки по ключу\n",
    "def group_by_key(iterable):\n",
    "    grouped = {}\n",
    "    for k, v in iterable:\n",
    "        grouped.setdefault(k, []).append(v)\n",
    "    return grouped\n",
    "\n",
    "# Генерация и обработка данных\n",
    "record = RECORDREADER(3)\n",
    "map_output = [MAP(x) for x in record]\n",
    "\n",
    "shuffle_output = group_by_key(map_output)\n",
    "\n",
    "reduce_output = [REDUCE(key, values) for key, values in shuffle_output.items()]\n",
    "\n",
    "print(\"Исходные записи:\", record)\n",
    "print(\"Результат работы функции 'map':\", map_output)\n",
    "print(\"Результат группировки по ключу (Shuffle):\", shuffle_output)\n",
    "print(\"Результат работы функции 'reduce':\", reduce_output)"
   ]
  },
  {
   "cell_type": "markdown",
   "metadata": {
    "id": "dQ8TuEbjv4J8"
   },
   "source": [
    "### Intersection (Пересечение)\n",
    "\n",
    "**The Map Function:** Превратите каждый кортеж $t$ в пары ключ-значение $(t, t)$.\n",
    "\n",
    "**The Reduce Function:** Если для ключа $t$ есть список из двух элементов $[t, t]$ $-$ создайте пару $(t, t)$. Иначе, ничего не создавайте."
   ]
  },
  {
   "cell_type": "code",
   "execution_count": 16,
   "metadata": {
    "id": "XKlBZh4IwERR"
   },
   "outputs": [
    {
     "name": "stdout",
     "output_type": "stream",
     "text": [
      "Первый набор данных:\n",
      " [(1, 0), (0, 3), (1, 0)]\n",
      "Второй набор данных:\n",
      " [(1, 2), (0, 2), (3, 0)]\n",
      "Результат функции REDUCE:\n",
      " [((1, 0), (1, 0))]\n"
     ]
    }
   ],
   "source": [
    "TupleType = Tuple[int, int]\n",
    "\n",
    "# Функция MAP\n",
    "def MAP(t):\n",
    "    return (t, t)\n",
    "\n",
    "# Функция REDUCE\n",
    "def REDUCE(key, values):\n",
    "    if len(values) > 1:  # Проверяем, что элемент присутствует в нескольких наборах\n",
    "        return (key, key)\n",
    "\n",
    "# Функция для генерации случайных кортежей\n",
    "def RECORDREADER(count):\n",
    "    return [(random.randint(0, 3), random.randint(0, 3)) for _ in range(count)]\n",
    "\n",
    "# Функция для группировки по ключу\n",
    "def group_by_key(iterable):\n",
    "    grouped = {}\n",
    "    for key, value in iterable:\n",
    "        grouped.setdefault(key, []).append(value)\n",
    "    return list(grouped.items())\n",
    "\n",
    "# Генерация двух наборов данных\n",
    "record1 = RECORDREADER(3)\n",
    "record2 = RECORDREADER(3)\n",
    "\n",
    "# Объединение записей из обоих наборов\n",
    "combined_records = record1 + record2\n",
    "\n",
    "# Применение функции MAP и группировка результатов\n",
    "map_output = [MAP(x) for x in combined_records]\n",
    "shuffle_output = list(group_by_key(map_output))\n",
    "\n",
    "# Применение функции REDUCE и фильтрация ненужных результатов\n",
    "reduce_output = [REDUCE(*item) for item in shuffle_output if len(item[1]) > 1]\n",
    "\n",
    "print(\"Первый набор данных:\\n\", record1)\n",
    "print(\"Второй набор данных:\\n\", record2)\n",
    "print(\"Результат функции REDUCE:\\n\", [item for item in reduce_output])"
   ]
  },
  {
   "cell_type": "markdown",
   "metadata": {
    "id": "AVOpqoY3wE5k"
   },
   "source": [
    "### Difference (Разница)\n",
    "\n",
    "**The Map Function:** Для кортежа $t \\in R$, создайте пару $(t, R)$, и для кортежа $t \\in S$, создайте пару $(t, S)$. Задумка заключается в том, чтобы значение пары было именем отношения $R$ or $S$, которому принадлежит кортеж (а лучше, единичный бит, по которому можно два отношения различить $R$ or $S$), а не весь набор атрибутов отношения.\n",
    "\n",
    "**The Reduce Function:** Для каждого ключа $t$, если соответствующее значение является списком $[R]$, создайте пару $(t, t)$. В иных случаях не предпринимайте действий."
   ]
  },
  {
   "cell_type": "code",
   "execution_count": 18,
   "metadata": {
    "id": "QE_AC09lwZIZ"
   },
   "outputs": [
    {
     "name": "stdout",
     "output_type": "stream",
     "text": [
      "Сгенерированные образцы:\n",
      " [((2, 1), 0), ((2, 3), 1), ((2, 3), 0), ((1, 2), 1), ((3, 2), 0)]\n",
      "Результаты отображения:\n",
      " [((2, 1), 0), ((2, 3), 1), ((2, 3), 0), ((1, 2), 1), ((3, 2), 0)]\n",
      "Организованные данные:\n",
      " {(2, 1): [0], (2, 3): [1, 0], (1, 2): [1], (3, 2): [0]}\n",
      "Отфильтрованные уникальные результаты:\n",
      " [((2, 1), (2, 1)), ((3, 2), (3, 2))]\n"
     ]
    }
   ],
   "source": [
    "from collections import defaultdict\n",
    "\n",
    "SET_R = 0\n",
    "SET_S = 1\n",
    "\n",
    "def create_random_element() -> Tuple[Tuple[int, int], int]:\n",
    "    \"\"\"\n",
    "    Создаёт случайный элемент с указанием его принадлежности к одному из множеств.\n",
    "    \"\"\"\n",
    "    element = (random.randint(1, 4), random.randint(1, 4))\n",
    "    set_indicator = random.choice([SET_R, SET_S])\n",
    "    return (element, set_indicator)\n",
    "\n",
    "def fetch_data(sample_size):\n",
    "    \"\"\"\n",
    "    Генерирует список случайных элементов заданного размера.\n",
    "    \"\"\"\n",
    "    return [create_random_element() for _ in range(sample_size)]\n",
    "\n",
    "def map_element(input_element):\n",
    "    \"\"\"\n",
    "    Возвращает входной элемент без изменений, имитация функции отображения.\n",
    "    \"\"\"\n",
    "    return input_element\n",
    "\n",
    "def filter_unique(key, belonging):\n",
    "    \"\"\"\n",
    "    Фильтрует элементы, которые принадлежат только первому множеству.\n",
    "    \"\"\"\n",
    "    if belonging.count(SET_R) == 1 and SET_S not in belonging:\n",
    "        return (key, key)\n",
    "\n",
    "def organize_by_key(elements):\n",
    "    \"\"\"\n",
    "    Организует элементы по ключам.\n",
    "    \"\"\"\n",
    "    organization = defaultdict(list)\n",
    "    for element_key, relation in elements:\n",
    "        organization[element_key].append(relation)\n",
    "    return organization\n",
    "\n",
    "# Процесс MapReduce\n",
    "data_samples = fetch_data(5)\n",
    "mapped_samples = [map_element(sample) for sample in data_samples]\n",
    "organized_data = organize_by_key(mapped_samples)\n",
    "filtered_results = [filter_unique(k, v) for k, v in organized_data.items() if filter_unique(k, v) is not None]\n",
    "\n",
    "# Вывод результатов\n",
    "print(\"Сгенерированные образцы:\\n\", data_samples)\n",
    "print(\"Результаты отображения:\\n\", mapped_samples)\n",
    "print(\"Организованные данные:\\n\", dict(organized_data))\n",
    "print(\"Отфильтрованные уникальные результаты:\\n\", filtered_results)"
   ]
  },
  {
   "cell_type": "markdown",
   "metadata": {
    "id": "j8I58V2VwhSm"
   },
   "source": [
    "### Natural Join\n",
    "\n",
    "**The Map Function:** Для каждого кортежа $(a, b)$ отношения $R$, создайте пару $(b,(R, a))$. Для каждого кортежа $(b, c)$ отношения $S$, создайте пару $(b,(S, c))$.\n",
    "\n",
    "**The Reduce Function:** Каждый ключ $b$ будет асоциирован со списком пар, которые принимают форму либо $(R, a)$, либо $(S, c)$. Создайте все пары, одни, состоящие из  первого компонента $R$, а другие, из первого компонента $S$, то есть $(R, a)$ и $(S, c)$. На выходе вы получаете последовательность пар ключ-значение из списков ключей и значений. Ключ не нужен. Каждое значение, это тройка $(a, b, c)$ такая, что $(R, a)$ и $(S, c)$ это принадлежат входному списку значений."
   ]
  },
  {
   "cell_type": "code",
   "execution_count": 21,
   "metadata": {
    "id": "yHiuuTctw86I"
   },
   "outputs": [
    {
     "name": "stdout",
     "output_type": "stream",
     "text": [
      "Исходные данные:\n",
      " [((1, 0), 'R'), ((2, 1), 'R'), ((1, 3), 'R'), ((3, 1), 'S'), ((1, 0), 'S'), ((0, 2), 'S'), ((1, 1), 'S')]\n",
      "Результаты отображения (MAP):\n",
      " [(0, ('R', 1)), (1, ('R', 2)), (3, ('R', 1)), (3, ('S', 1)), (1, ('S', 0)), (0, ('S', 2)), (1, ('S', 1))]\n",
      "Группированные данные:\n",
      " {0: [('R', 1), ('S', 2)], 1: [('R', 2), ('S', 0), ('S', 1)], 3: [('R', 1), ('S', 1)]}\n",
      "Результаты свёртки (REDUCE):\n",
      " [(1, 0, 2), (2, 1, 0), (2, 1, 1), (1, 3, 1)]\n"
     ]
    }
   ],
   "source": [
    "# Идентификаторы для отношений R и S\n",
    "REL_R = 'R'\n",
    "REL_S = 'S'\n",
    "\n",
    "def generate_random_tuple(is_relation_r):\n",
    "    \"\"\"\n",
    "    Генерация случайного кортежа для отношений R или S.\n",
    "    \"\"\"\n",
    "    values = (random.randint(0, 3), random.randint(0, 3))\n",
    "    relation = REL_R if is_relation_r else REL_S\n",
    "    return (values, relation)\n",
    "\n",
    "def fetch_records(total):\n",
    "    \"\"\"\n",
    "    Чтение записей, аналогичное функции RECORDREADER.\n",
    "    \"\"\"\n",
    "    return [generate_random_tuple(i < total // 2) for i in range(total)]\n",
    "\n",
    "def MAP(record):\n",
    "    \"\"\"\n",
    "    Функция MAP, трансформирующая входные данные.\n",
    "    \"\"\"\n",
    "    ((a, b), relation) = record\n",
    "    return (b, (relation, a)) if relation == REL_R else (a, (relation, b))\n",
    "\n",
    "def REDUCE(key: int, grouped_values: Iterable[Tuple[str, int]]) -> List[Tuple[int, int, int]]:\n",
    "    \"\"\"\n",
    "    Функция REDUCE, обрабатывающая сгруппированные данные.\n",
    "    \"\"\"\n",
    "    r_values = [value for relation, value in grouped_values if relation == REL_R]\n",
    "    s_values = [value for relation, value in grouped_values if relation == REL_S]\n",
    "    return [(r, key, s) for r in r_values for s in s_values]\n",
    "\n",
    "def group_by_key(mapped):\n",
    "    \"\"\"\n",
    "    Группировка по ключу.\n",
    "    \"\"\"\n",
    "    grouped = defaultdict(list)\n",
    "    for key, value in mapped:\n",
    "        grouped[key].append(value)\n",
    "    return grouped\n",
    "\n",
    "# Пример использования\n",
    "data = fetch_records(7)\n",
    "mapped = [MAP(item) for item in data]\n",
    "grouped = group_by_key(mapped)\n",
    "reduced = [result for key, values in grouped.items() for result in REDUCE(key, values)]\n",
    "\n",
    "print(\"Исходные данные:\\n\", data)\n",
    "print(\"Результаты отображения (MAP):\\n\", mapped)\n",
    "print(\"Группированные данные:\\n\", dict(grouped))\n",
    "print(\"Результаты свёртки (REDUCE):\\n\", reduced)"
   ]
  },
  {
   "cell_type": "markdown",
   "metadata": {
    "id": "kYdlr0YUxE27"
   },
   "source": [
    "### Grouping and Aggregation (Группировка и аггрегация)\n",
    "\n",
    "**The Map Function:** Для каждого кортежа $(a, b, c$) создайте пару $(a, b)$.\n",
    "\n",
    "**The Reduce Function:** Ключ представляет ту или иную группу. Примение аггрегирующую операцию $\\theta$ к списку значений $[b1, b2, . . . , bn]$ ассоциированных с ключом $a$. Возвращайте в выходной поток $(a, x)$, где $x$ результат применения  $\\theta$ к списку. Например, если $\\theta$ это $SUM$, тогда $x = b1 + b2 + · · · + bn$, а если $\\theta$ is $MAX$, тогда $x$ это максимальное из значений $b1, b2, . . . , bn$."
   ]
  },
  {
   "cell_type": "code",
   "execution_count": 22,
   "metadata": {
    "id": "MLPckfEGxico"
   },
   "outputs": [
    {
     "name": "stdout",
     "output_type": "stream",
     "text": [
      "Результаты агрегации 'sum':\n",
      "[(1, 4), (0, 5), (3, 7), (2, 0)]\n",
      "Результаты агрегации 'max':\n",
      "[(1, 3), (0, 3), (3, 3), (2, 0)]\n",
      "Результаты агрегации 'min':\n",
      "[(1, 0), (0, 2), (3, 1), (2, 0)]\n",
      "Результаты агрегации 'avg':\n",
      "[(1, 1.3333333333333333), (0, 2.5), (3, 2.3333333333333335), (2, 0.0)]\n"
     ]
    }
   ],
   "source": [
    "def get_random_tuple():\n",
    "    \"\"\"\n",
    "    Генерирует случайный трехэлементный кортеж.\n",
    "    \"\"\"\n",
    "    return (random.randint(0, 3), random.randint(0, 3), random.randint(0, 3))\n",
    "\n",
    "def record_reader(count):\n",
    "    \"\"\"\n",
    "    Имитирует чтение данных, генерируя список случайных кортежей.\n",
    "    \"\"\"\n",
    "    return [get_random_tuple() for _ in range(count)]\n",
    "\n",
    "def map_function(t):\n",
    "    \"\"\"\n",
    "    Преобразует входные кортежи, возвращая первые два элемента как новый кортеж.\n",
    "    \"\"\"\n",
    "    return (t[0], t[1])\n",
    "\n",
    "def theta_aggregate(values, mode):\n",
    "    \"\"\"\n",
    "    Агрегирует значения списка в соответствии с указанным режимом.\n",
    "    \"\"\"\n",
    "    if mode == 'sum':\n",
    "        return sum(values)\n",
    "    elif mode == 'max':\n",
    "        return max(values)\n",
    "    elif mode == 'min':\n",
    "        return min(values)\n",
    "    elif mode == 'avg':\n",
    "        return sum(values) / len(values) if values else 0\n",
    "\n",
    "def reduce_function(key, values, operation):\n",
    "    \"\"\"\n",
    "    Применяет агрегирующую функцию к группированным значениям и возвращает результат.\n",
    "    \"\"\"\n",
    "    return (key, theta_aggregate(values, operation))\n",
    "\n",
    "def group_by_key(iterable):\n",
    "    \"\"\"\n",
    "    Группирует элементы по ключу.\n",
    "    \"\"\"\n",
    "    grouped = {}\n",
    "    for key, value in iterable:\n",
    "        grouped.setdefault(key, []).append(value)\n",
    "    return grouped\n",
    "\n",
    "# Обработка записей\n",
    "records = record_reader(10)\n",
    "map_output = [map_function(x) for x in records]\n",
    "grouped_output = group_by_key(map_output)\n",
    "\n",
    "# Выполнение агрегации\n",
    "aggregations = ['sum', 'max', 'min', 'avg']\n",
    "for agg in aggregations:\n",
    "    reduce_output = [reduce_function(key, values, agg) for key, values in grouped_output.items()]\n",
    "    print(f\"Результаты агрегации '{agg}':\\n{reduce_output}\")"
   ]
  },
  {
   "cell_type": "markdown",
   "metadata": {
    "id": "IIrRgvG4RIS4"
   },
   "source": [
    "### Matrix-Vector multiplication\n",
    "\n",
    "Случай, когда вектор не помещается в памяти Map задачи\n"
   ]
  },
  {
   "cell_type": "markdown",
   "metadata": {
    "id": "GIo2t7nNxvA9"
   },
   "source": [
    "## Matrix multiplication (Перемножение матриц)\n",
    "\n",
    "Если у нас есть матрица $M$ с элементами $m_{ij}$ в строке $i$ и столбце $j$, и матрица $N$ с элементами $n_{jk}$ в строке $j$ и столбце $k$, тогда их произведение $P = MN$ есть матрица $P$ с элементами $p_{ik}$ в строке $i$ и столбце $k$, где\n",
    "\n",
    "$$p_{ik} =\\sum_{j} m_{ij}n_{jk}$$\n",
    "\n",
    "Необходимым требованием является одинаковое количество столбцов в $M$ и строк в $N$, чтобы операция суммирования по  $j$ была осмысленной. Мы можем размышлять о матрице, как об отношении с тремя атрибутами: номер строки, номер столбца, само значение. Таким образом матрица $M$ предстваляется как отношение $ M(I, J, V )$, с кортежами $(i, j, m_{ij})$, и, аналогично, матрица $N$ представляется как отношение $N(J, K, W)$, с кортежами $(j, k, n_{jk})$. Так как большие матрицы как правило разреженные (большинство значений равно 0), и так как мы можем нулевыми значениями пренебречь (не хранить), такое реляционное представление достаточно эффективно для больших матриц. Однако, возможно, что координаты $i$, $j$, и $k$ неявно закодированы в смещение позиции элемента относительно начала файла, вместо явного хранения. Тогда, функция Map (или Reader) должна быть разработана таким образом, чтобы реконструировать компоненты $I$, $J$, и $K$ кортежей из смещения.\n",
    "\n",
    "Произведение $MN$ это фактически join, за которым следуют группировка по ключу и аггрегация. Таким образом join отношений $M(I, J, V )$ и $N(J, K, W)$, имеющих общим только атрибут $J$, создаст кортежи $(i, j, k, v, w)$ из каждого кортежа $(i, j, v) \\in M$ и кортежа $(j, k, w) \\in N$. Такой 5 компонентный кортеж представляет пару элементов матрицы $(m_{ij} , n_{jk})$. Что нам хотелось бы получить на самом деле, это произведение этих элементов, то есть, 4 компонентный кортеж$(i, j, k, v \\times w)$, так как он представляет произведение $m_{ij}n_{jk}$. Мы представляем отношение как результат одной MapReduce операции, в которой мы можем произвести группировку и аггрегацию, с $I$ и $K$  атрибутами, по которым идёт группировка, и суммой  $V \\times W$. \n",
    "\n",
    "\n",
    "\n"
   ]
  },
  {
   "cell_type": "code",
   "execution_count": 25,
   "metadata": {
    "id": "1MBkGaLAYVCt"
   },
   "outputs": [],
   "source": [
    "# MapReduce model\n",
    "def flatten(nested_iterable):\n",
    "  for iterable in nested_iterable:\n",
    "    for element in iterable:\n",
    "      yield element\n",
    "\n",
    "def groupbykey(iterable):\n",
    "  t = {}\n",
    "  for (k2, v2) in iterable:\n",
    "    t[k2] = t.get(k2, []) + [v2]\n",
    "  return t.items()\n",
    "\n",
    "def MapReduce(RECORDREADER, MAP, REDUCE):\n",
    "  return flatten(map(lambda x: REDUCE(*x), groupbykey(flatten(map(lambda x: MAP(*x), RECORDREADER())))))"
   ]
  },
  {
   "cell_type": "markdown",
   "metadata": {
    "id": "sMspsOT0ZB35"
   },
   "source": [
    "Реализуйте перемножение матриц с использованием модельного кода MapReduce для одной машины в случае, когда одна матрица хранится в памяти, а другая генерируется RECORDREADER-ом."
   ]
  },
  {
   "cell_type": "code",
   "execution_count": 23,
   "metadata": {
    "id": "psP1XekbsEjS"
   },
   "outputs": [],
   "source": [
    "import numpy as np\n",
    "I = 2\n",
    "J = 3\n",
    "K = 4*10\n",
    "small_mat = np.random.rand(I,J) # it is legal to access this from RECORDREADER, MAP, REDUCE\n",
    "big_mat = np.random.rand(J,K)\n",
    "\n",
    "def RECORDREADER():\n",
    "  for j in range(big_mat.shape[0]):\n",
    "    for k in range(big_mat.shape[1]):\n",
    "      yield ((j,k), big_mat[j,k])\n",
    "      \n",
    "def MAP(k1, v1):\n",
    "  (j, k) = k1\n",
    "  w = v1\n",
    "  # solution code that yield(k2,v2) pairs\n",
    "  for i in range(small_mat.shape[0]):\n",
    "      yield ((i, k), small_mat[i, j] * w)\n",
    "  \n",
    "def REDUCE(key, values):\n",
    "  (i, k) = key\n",
    "  result = sum(values)\n",
    "  yield ((i, k), result)"
   ]
  },
  {
   "cell_type": "markdown",
   "metadata": {
    "id": "rnt306LHhHrm"
   },
   "source": [
    "Проверьте своё решение"
   ]
  },
  {
   "cell_type": "code",
   "execution_count": 26,
   "metadata": {
    "colab": {
     "base_uri": "https://localhost:8080/",
     "height": 34
    },
    "id": "Ewy_ZNYqW5a2",
    "outputId": "9ce264f2-9412-44e2-9b0a-cc780573ab3a"
   },
   "outputs": [
    {
     "data": {
      "text/plain": [
       "True"
      ]
     },
     "execution_count": 26,
     "metadata": {},
     "output_type": "execute_result"
    }
   ],
   "source": [
    "# CHECK THE SOLUTION\n",
    "reference_solution = np.matmul(small_mat, big_mat) \n",
    "solution = MapReduce(RECORDREADER, MAP, REDUCE)\n",
    "\n",
    "def asmatrix(reduce_output):\n",
    "  reduce_output = list(reduce_output)\n",
    "  I = max(i for ((i,k), vw) in reduce_output)+1\n",
    "  K = max(k for ((i,k), vw) in reduce_output)+1\n",
    "  mat = np.empty(shape=(I,K))\n",
    "  for ((i,k), vw) in reduce_output:\n",
    "    mat[i,k] = vw\n",
    "  return mat\n",
    "\n",
    "np.allclose(reference_solution, asmatrix(solution)) # should return true"
   ]
  },
  {
   "cell_type": "code",
   "execution_count": 27,
   "metadata": {
    "colab": {
     "base_uri": "https://localhost:8080/",
     "height": 34
    },
    "id": "TK7v4CEcfxqf",
    "outputId": "2c865d0a-4065-4e6b-c83f-5508ed5eb4fa"
   },
   "outputs": [
    {
     "data": {
      "text/plain": [
       "1"
      ]
     },
     "execution_count": 27,
     "metadata": {},
     "output_type": "execute_result"
    }
   ],
   "source": [
    "reduce_output = list(MapReduce(RECORDREADER, MAP, REDUCE))\n",
    "max(i for ((i,k), vw) in reduce_output)"
   ]
  },
  {
   "cell_type": "markdown",
   "metadata": {
    "id": "i4yyg3kOZqJJ"
   },
   "source": [
    "Реализуйте перемножение матриц  с использованием модельного кода MapReduce для одной машины в случае, когда обе матрицы генерируются в RECORDREADER. Например, сначала одна, а потом другая."
   ]
  },
  {
   "cell_type": "code",
   "execution_count": 33,
   "metadata": {
    "id": "3B7rIAJCaHZq"
   },
   "outputs": [
    {
     "data": {
      "text/plain": [
       "True"
      ]
     },
     "execution_count": 33,
     "metadata": {},
     "output_type": "execute_result"
    }
   ],
   "source": [
    "I = 2\n",
    "J = 3\n",
    "K = 4*10\n",
    "small_mat = np.random.rand(I,J)\n",
    "big_mat = np.random.rand(J,K)\n",
    "reference_solution = np.matmul(small_mat, big_mat)\n",
    "\n",
    "def RECORDREADER():\n",
    "    yield from (((0, i, j), value) for i, row in enumerate(small_mat) for j, value in enumerate(row))\n",
    "    yield from (((1, j, k), value) for j, row in enumerate(big_mat) for k, value in enumerate(row))\n",
    "\n",
    "\n",
    "def MAP_JOIN(k1, v1):\n",
    "    mat_num, i, j = k1\n",
    "    key = j if mat_num == 0 else i\n",
    "    yield (key, (mat_num, i if mat_num == 0 else j, v1))\n",
    "\n",
    "\n",
    "def REDUCE_JOIN(key, values):\n",
    "    for v1 in values:\n",
    "        if v1[0] == 0:\n",
    "            for v2 in values:\n",
    "                if v2[0] == 1:\n",
    "                    yield ((v1[1], v2[1]), v1[2] * v2[2])\n",
    "\n",
    "def MAP_MUL(k1, v1):\n",
    "    yield k1, v1\n",
    "\n",
    "\n",
    "def REDUCE_MUL(key, values):\n",
    "    yield (key, sum(values))\n",
    "\n",
    "\n",
    "def GET_JOINED():\n",
    "    yield from joined\n",
    "\n",
    "joined = MapReduce(RECORDREADER, MAP_JOIN, REDUCE_JOIN)\n",
    "solution = MapReduce(GET_JOINED, MAP_MUL, REDUCE_MUL)\n",
    "np.allclose(reference_solution, asmatrix(solution)) "
   ]
  },
  {
   "cell_type": "markdown",
   "metadata": {
    "id": "mXyzQi1DaIwo"
   },
   "source": [
    "Реализуйте перемножение матриц с использованием модельного кода MapReduce Distributed, когда каждая матрица генерируется в своём RECORDREADER. "
   ]
  },
  {
   "cell_type": "code",
   "execution_count": 40,
   "metadata": {
    "id": "TDM_s78Rb5eR"
   },
   "outputs": [
    {
     "name": "stdout",
     "output_type": "stream",
     "text": [
      "172 пар ключ-значение было отправлено по сети.\n",
      "480 пар ключ-значение было отправлено по сети.\n"
     ]
    },
    {
     "data": {
      "text/plain": [
       "True"
      ]
     },
     "execution_count": 40,
     "metadata": {},
     "output_type": "execute_result"
    }
   ],
   "source": [
    "def flatten(nested_iterable):\n",
    "    for iterable in nested_iterable:\n",
    "        for element in iterable:\n",
    "            yield element\n",
    "\n",
    "\n",
    "def groupbykey(iterable):\n",
    "    t = {}\n",
    "    for (k2, v2) in iterable:\n",
    "        t[k2] = t.get(k2, []) + [v2]\n",
    "    return t.items()\n",
    "\n",
    "\n",
    "def groupbykey_distributed(map_partitions, PARTITIONER):\n",
    "    global reducers\n",
    "    partitions = [dict() for _ in range(reducers)]\n",
    "    for map_partition in map_partitions:\n",
    "        for (k2, v2) in map_partition:\n",
    "            p = partitions[PARTITIONER(k2)]\n",
    "            p[k2] = p.get(k2, []) + [v2]\n",
    "    return [(partition_id, sorted(partition.items(), key=lambda x: x[0])) for (partition_id, partition) in\n",
    "            enumerate(partitions)]\n",
    "\n",
    "\n",
    "def PARTITIONER(obj):\n",
    "    global reducers\n",
    "    return hash(obj) % reducers\n",
    "\n",
    "\n",
    "def MapReduceDistributed(INPUTFORMAT, MAP, REDUCE, PARTITIONER=PARTITIONER, COMBINER=None):\n",
    "    map_partitions = map(lambda record_reader: flatten(map(lambda k1v1: MAP(*k1v1), record_reader)), INPUTFORMAT())\n",
    "    if COMBINER != None:\n",
    "        map_partitions = map(\n",
    "            lambda map_partition: flatten(map(lambda k2v2: COMBINER(*k2v2), groupbykey(map_partition))), map_partitions)\n",
    "    reduce_partitions = groupbykey_distributed(map_partitions, PARTITIONER)  # shuffle\n",
    "    reduce_outputs = map(lambda reduce_partition: (\n",
    "    reduce_partition[0], flatten(map(lambda reduce_input_group: REDUCE(*reduce_input_group), reduce_partition[1]))),\n",
    "                         reduce_partitions)\n",
    "\n",
    "    print(\"{} пар ключ-значение было отправлено по сети.\".format(\n",
    "        sum([len(vs) for (k, vs) in flatten([partition for (partition_id, partition) in reduce_partitions])])))\n",
    "    return reduce_outputs\n",
    "\n",
    "\n",
    "I = 3\n",
    "J = 4\n",
    "K = 4 * 10\n",
    "small_mat = np.random.rand(I, J)\n",
    "big_mat = np.random.rand(J, K)\n",
    "reference_solution = np.matmul(small_mat, big_mat)\n",
    "\n",
    "\n",
    "def INPUTFORMAT():\n",
    "    first_mat = [((0, i, j), value) for i, row in enumerate(small_mat) for j, value in enumerate(row)]\n",
    "    second_mat = [((1, j, k), value) for j, row in enumerate(big_mat) for k, value in enumerate(row)]\n",
    "    return [first_mat, second_mat]\n",
    "\n",
    "\n",
    "def MAP_JOIN(k1, v1):\n",
    "    mat_num, i, j = k1\n",
    "    key = j if mat_num == 0 else i\n",
    "    yield (key, (mat_num, i if mat_num == 0 else j, v1))\n",
    "\n",
    "\n",
    "def REDUCE_JOIN(key, values):\n",
    "    for v1 in values:\n",
    "        if v1[0] == 0:\n",
    "            for v2 in values:\n",
    "                if v2[0] == 1:\n",
    "                    yield ((v1[1], v2[1]), v1[2] * v2[2])\n",
    "\n",
    "\n",
    "def GET_JOINED():\n",
    "    yield from (j[1] for j in joined)\n",
    "\n",
    "\n",
    "def MAP_MUL(k1, v1): \n",
    "    yield k1, v1\n",
    "\n",
    "\n",
    "def REDUCE_MUL(key, values):\n",
    "    yield (key, sum(values))\n",
    "\n",
    "# Начальные параметры\n",
    "maps = 8\n",
    "reducers = 4\n",
    "\n",
    "partitioned_output = MapReduceDistributed(INPUTFORMAT, MAP_JOIN, REDUCE_JOIN, COMBINER=None)\n",
    "joined = list(map(lambda x: (x[0], list(x[1])), partitioned_output))\n",
    "\n",
    "mul_output = MapReduceDistributed(GET_JOINED, MAP_MUL, REDUCE_MUL, COMBINER=None)\n",
    "pre_result = list(map(lambda x: (x[0], list(x[1])), mul_output))\n",
    "\n",
    "solution = [v for p in pre_result for v in p[1]]\n",
    "\n",
    "np.allclose(reference_solution, asmatrix(solution))  # True"
   ]
  },
  {
   "cell_type": "markdown",
   "metadata": {
    "id": "ZuSA2P9Db6UM"
   },
   "source": [
    "Обобщите предыдущее решение на случай, когда каждая матрица генерируется несколькими RECORDREADER-ами, и проверьте его работоспособность. Будет ли работать решение, если RECORDREADER-ы будут генерировать случайное подмножество элементов матрицы?"
   ]
  },
  {
   "cell_type": "code",
   "execution_count": 39,
   "metadata": {
    "id": "ehN0FqRDcwU5"
   },
   "outputs": [
    {
     "name": "stdout",
     "output_type": "stream",
     "text": [
      "126 пар ключ-значение было отправлено по сети.\n",
      "240 пар ключ-значение было отправлено по сети.\n"
     ]
    },
    {
     "data": {
      "text/plain": [
       "True"
      ]
     },
     "execution_count": 39,
     "metadata": {},
     "output_type": "execute_result"
    }
   ],
   "source": [
    "def flatten(nested_iterable):\n",
    "  # Генератор для раскрытия вложенной структуры данных\n",
    "  for iterable in nested_iterable:\n",
    "    for element in iterable:\n",
    "      yield element\n",
    "\n",
    "def groupbykey(iterable):\n",
    "  # Группировка по ключу для итерируемой последовательности\n",
    "  t = {}\n",
    "  for (k2, v2) in iterable:\n",
    "    t[k2] = t.get(k2, []) + [v2]\n",
    "  return t.items()\n",
    "\n",
    "def groupbykey_distributed(map_partitions, PARTITIONER):\n",
    "  # Распределенная группировка по ключу\n",
    "  global reducers\n",
    "  partitions = [dict() for _ in range(reducers)]\n",
    "  for map_partition in map_partitions:\n",
    "    for (k2, v2) in map_partition:\n",
    "      p = partitions[PARTITIONER(k2)]\n",
    "      p[k2] = p.get(k2, []) + [v2]\n",
    "  return [(partition_id, sorted(partition.items(), key=lambda x: x[0])) for (partition_id, partition) in enumerate(partitions)]\n",
    "\n",
    "def PARTITIONER(obj):\n",
    "  # Функция для вычисления партиций с использованием хеш-функции\n",
    "  global reducers\n",
    "  return hash(obj) % reducers\n",
    "\n",
    "def MapReduceDistributed(INPUTFORMAT, MAP, REDUCE, PARTITIONER=PARTITIONER, COMBINER=None):\n",
    "  # Функция для выполнения распределенной обработки MapReduce\n",
    "  map_partitions = map(lambda record_reader: flatten(map(lambda k1v1: MAP(*k1v1), record_reader)), INPUTFORMAT())\n",
    "  if COMBINER != None:\n",
    "    map_partitions = map(lambda map_partition: flatten(map(lambda k2v2: COMBINER(*k2v2), groupbykey(map_partition))), map_partitions)\n",
    "  reduce_partitions = groupbykey_distributed(map_partitions, PARTITIONER) # shuffle\n",
    "  reduce_outputs = map(lambda reduce_partition: (reduce_partition[0], flatten(map(lambda reduce_input_group: REDUCE(*reduce_input_group), reduce_partition[1]))), reduce_partitions)\n",
    "\n",
    "  print(\"{} пар ключ-значение было отправлено по сети.\".format(sum([len(vs) for (k,vs) in flatten([partition for (partition_id, partition) in reduce_partitions])])))\n",
    "  return reduce_outputs\n",
    "\n",
    "\n",
    "I = 2\n",
    "J = 3\n",
    "K = 4*10\n",
    "small_mat = np.random.rand(I,J)\n",
    "big_mat = np.random.rand(J,K)\n",
    "reference_solution = np.matmul(small_mat, big_mat)\n",
    "\n",
    "def INPUTFORMAT():\n",
    "  # Функция для форматирования входных данных в MapReduce\n",
    "  first_mat = [((0, i, j), small_mat[i,j]) for i in range(small_mat.shape[0]) for j in range(small_mat.shape[1])]\n",
    "\n",
    "  second_mat = [((1, j, k), big_mat[j,k]) for j in range(big_mat.shape[0]) for k in range(big_mat.shape[1])]\n",
    "\n",
    "  # Разбиваем первую матрицу на части\n",
    "  split_size = int(np.ceil(len(first_mat)/maps))\n",
    "  for i in range(0, len(first_mat), split_size):\n",
    "    yield first_mat[i:i+split_size]\n",
    "\n",
    "  # Разбиваем вторую матрицу на части\n",
    "  split_size = int(np.ceil(len(second_mat)/maps))\n",
    "  for i in range(0, len(second_mat), split_size):\n",
    "    yield second_mat[i:i+split_size]\n",
    "\n",
    "def MAP_JOIN(k1, v1):\n",
    "    # MAP-функция для присоединения (join) данных\n",
    "    mat_num, i, j = k1\n",
    "    key = j if mat_num == 0 else i\n",
    "    yield (key, (mat_num, i if mat_num == 0 else j, v1))\n",
    "\n",
    "def REDUCE_JOIN(key, values):\n",
    "    # REDUCE-функция для присоединения (join) данных\n",
    "    for v1 in values:\n",
    "        if v1[0] == 0:\n",
    "            for v2 in values:\n",
    "                if v2[0] == 1:\n",
    "                    yield ((v1[1], v2[1]), v1[2] * v2[2])\n",
    "\n",
    "def GET_JOINED():\n",
    "  # Генератор для извлечения данных после присоединения\n",
    "  yield from (j[1] for j in joined)\n",
    "\n",
    "def MAP_MUL(k1, v1): #+\n",
    "    # MAP-функция для умножения\n",
    "    yield k1, v1\n",
    "\n",
    "def REDUCE_MUL(key, values):\n",
    "    # REDUCE-функция для умножения\n",
    "    yield (key, sum(values))\n",
    "\n",
    "maps = 8\n",
    "reducers = 4\n",
    "partitioned_output = MapReduceDistributed(INPUTFORMAT, MAP_JOIN, REDUCE_JOIN, COMBINER=None)\n",
    "joined = list(map(lambda x: (x[0], list(x[1])), partitioned_output))\n",
    "\n",
    "mul_output = MapReduceDistributed(GET_JOINED, MAP_MUL, REDUCE_MUL, COMBINER=None)\n",
    "pre_result = list(map(lambda x: (x[0], list(x[1])), mul_output))\n",
    "\n",
    "solution = [v for p in pre_result for v in p[1]]\n",
    "\n",
    "np.allclose(reference_solution, asmatrix(solution)) # должен вернуть True"
   ]
  },
  {
   "cell_type": "code",
   "execution_count": null,
   "metadata": {},
   "outputs": [],
   "source": []
  }
 ],
 "metadata": {
  "colab": {
   "provenance": []
  },
  "kernelspec": {
   "display_name": "Python 3 (ipykernel)",
   "language": "python",
   "name": "python3"
  },
  "language_info": {
   "codemirror_mode": {
    "name": "ipython",
    "version": 3
   },
   "file_extension": ".py",
   "mimetype": "text/x-python",
   "name": "python",
   "nbconvert_exporter": "python",
   "pygments_lexer": "ipython3",
   "version": "3.9.13"
  }
 },
 "nbformat": 4,
 "nbformat_minor": 4
}
